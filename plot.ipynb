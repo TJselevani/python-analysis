{
 "cells": [
  {
   "cell_type": "code",
   "execution_count": 2,
   "metadata": {},
   "outputs": [
    {
     "data": {
      "application/vnd.plotly.v1+json": {
       "config": {
        "plotlyServerURL": "https://plot.ly"
       },
       "data": [
        {
         "line": {
          "width": 2
         },
         "marker": {
          "size": 6,
          "symbol": "circle"
         },
         "mode": "lines+markers",
         "name": "SM192",
         "text": [
          "1,080",
          "15,880",
          "5,430",
          "12,660",
          "50",
          "2,810",
          "20,720",
          "16,950",
          "4,130",
          "4,390",
          "9,000",
          "1,760",
          "3,080",
          "1,840",
          "13,760",
          "150"
         ],
         "textposition": "top center",
         "type": "scatter",
         "x": [
          "2024-11-25/2024-12-01",
          "2024-12-02/2024-12-08",
          "2024-12-09/2024-12-15",
          "2024-12-16/2024-12-22",
          "2024-12-23/2024-12-29",
          "2024-12-30/2025-01-05",
          "2025-01-06/2025-01-12",
          "2025-01-13/2025-01-19",
          "2025-01-20/2025-01-26",
          "2025-01-27/2025-02-02",
          "2025-02-03/2025-02-09",
          "2025-02-10/2025-02-16",
          "2025-02-17/2025-02-23",
          "2025-02-24/2025-03-02",
          "2025-03-03/2025-03-09",
          "2025-03-10/2025-03-16"
         ],
         "y": {
          "bdata": "AAAAAADgkEAAAAAAAATPQAAAAAAANrVAAAAAAAC6yEAAAAAAAABJQAAAAAAA9KVAAAAAAAA81EAAAAAAgI3QQAAAAAAAIrBAAAAAAAAmsUAAAAAAAJTBQAAAAAAAgJtAAAAAAAAQqEAAAAAAAMCcQAAAAAAA4MpAAAAAAADAYkA=",
          "dtype": "f8"
         }
        },
        {
         "line": {
          "width": 2
         },
         "marker": {
          "size": 6,
          "symbol": "circle"
         },
         "mode": "lines+markers",
         "name": "SM944",
         "text": [
          "390",
          "35,310",
          "12,123",
          "17,700",
          "90",
          "7,250",
          "17,060",
          "15,090",
          "25,990",
          "2,930",
          "2,150",
          "2,870",
          "7,080",
          "19,976",
          "38,620",
          "5,230"
         ],
         "textposition": "top center",
         "type": "scatter",
         "x": [
          "2024-11-25/2024-12-01",
          "2024-12-02/2024-12-08",
          "2024-12-09/2024-12-15",
          "2024-12-16/2024-12-22",
          "2024-12-23/2024-12-29",
          "2024-12-30/2025-01-05",
          "2025-01-06/2025-01-12",
          "2025-01-13/2025-01-19",
          "2025-01-20/2025-01-26",
          "2025-01-27/2025-02-02",
          "2025-02-03/2025-02-09",
          "2025-02-10/2025-02-16",
          "2025-02-17/2025-02-23",
          "2025-02-24/2025-03-02",
          "2025-03-03/2025-03-09",
          "2025-03-10/2025-03-16"
         ],
         "y": {
          "bdata": "AAAAAABgeEAAAAAAwD3hQAAAAACArcdAAAAAAABJ0UAAAAAAAIBWQAAAAAAAUrxAAAAAAACp0EAAAAAAAHnNQAAAAACAYdlAAAAAAADkpkAAAAAAAMygQAAAAAAAbKZAAAAAAACou0AAAAAAAILTQAAAAACA2+JAAAAAAAButEA=",
          "dtype": "f8"
         }
        },
        {
         "line": {
          "width": 2
         },
         "marker": {
          "size": 6,
          "symbol": "circle"
         },
         "mode": "lines+markers",
         "name": "SM055",
         "text": [
          "7,950",
          "57,140",
          "48,050",
          "45,220",
          "35,020",
          "0",
          "47,400",
          "46,200",
          "47,210",
          "37,940",
          "39,750",
          "47,020",
          "40,110",
          "45,420",
          "36,490",
          "5,790"
         ],
         "textposition": "top center",
         "type": "scatter",
         "x": [
          "2024-11-25/2024-12-01",
          "2024-12-02/2024-12-08",
          "2024-12-09/2024-12-15",
          "2024-12-16/2024-12-22",
          "2024-12-23/2024-12-29",
          "2024-12-30/2025-01-05",
          "2025-01-06/2025-01-12",
          "2025-01-13/2025-01-19",
          "2025-01-20/2025-01-26",
          "2025-01-27/2025-02-02",
          "2025-02-03/2025-02-09",
          "2025-02-10/2025-02-16",
          "2025-02-17/2025-02-23",
          "2025-02-24/2025-03-02",
          "2025-03-03/2025-03-09",
          "2025-03-10/2025-03-16"
         ],
         "y": {
          "bdata": "AAAAAAAOv0AAAAAAgObrQAAAAABAdudAAAAAAIAU5kAAAAAAgBnhQAAAAAAAAAAAAAAAAAAl50AAAAAAAI/mQAAAAABADedAAAAAAICG4kAAAAAAwGjjQAAAAACA9eZAAAAAAMCV40AAAAAAgC3mQAAAAABA0eFAAAAAAACetkA=",
          "dtype": "f8"
         }
        },
        {
         "line": {
          "width": 2
         },
         "marker": {
          "size": 6,
          "symbol": "circle"
         },
         "mode": "lines+markers",
         "name": "SM191",
         "text": [
          "30",
          "7,553",
          "0",
          "0",
          "0",
          "0",
          "4,865",
          "14,658",
          "13,000",
          "450",
          "3,230",
          "6,250",
          "2,400",
          "10,730",
          "120",
          "0"
         ],
         "textposition": "top center",
         "type": "scatter",
         "x": [
          "2024-11-25/2024-12-01",
          "2024-12-02/2024-12-08",
          "2024-12-09/2024-12-15",
          "2024-12-16/2024-12-22",
          "2024-12-23/2024-12-29",
          "2024-12-30/2025-01-05",
          "2025-01-06/2025-01-12",
          "2025-01-13/2025-01-19",
          "2025-01-20/2025-01-26",
          "2025-01-27/2025-02-02",
          "2025-02-03/2025-02-09",
          "2025-02-10/2025-02-16",
          "2025-02-17/2025-02-23",
          "2025-02-24/2025-03-02",
          "2025-03-03/2025-03-09",
          "2025-03-10/2025-03-16"
         ],
         "y": {
          "bdata": "AAAAAAAAPkAAAAAAAIG9QAAAAAAAAAAAAAAAAAAAAAAAAAAAAAAAAAAAAAAAAAAAAAAAAAABs0AAAAAAAKHMQAAAAAAAZMlAAAAAAAAgfEAAAAAAADypQAAAAAAAarhAAAAAAADAokAAAAAAAPXEQAAAAAAAAF5AAAAAAAAAAAA=",
          "dtype": "f8"
         }
        },
        {
         "line": {
          "width": 2
         },
         "marker": {
          "size": 6,
          "symbol": "circle"
         },
         "mode": "lines+markers",
         "name": "SM024",
         "text": [
          "210",
          "17,620",
          "14,320",
          "22,820",
          "1,300",
          "0",
          "18,010",
          "20,930",
          "13,870",
          "1,520",
          "120",
          "1,270",
          "3,710",
          "1,350",
          "16,355",
          "3,850"
         ],
         "textposition": "top center",
         "type": "scatter",
         "x": [
          "2024-11-25/2024-12-01",
          "2024-12-02/2024-12-08",
          "2024-12-09/2024-12-15",
          "2024-12-16/2024-12-22",
          "2024-12-23/2024-12-29",
          "2024-12-30/2025-01-05",
          "2025-01-06/2025-01-12",
          "2025-01-13/2025-01-19",
          "2025-01-20/2025-01-26",
          "2025-01-27/2025-02-02",
          "2025-02-03/2025-02-09",
          "2025-02-10/2025-02-16",
          "2025-02-17/2025-02-23",
          "2025-02-24/2025-03-02",
          "2025-03-03/2025-03-09",
          "2025-03-10/2025-03-16"
         ],
         "y": {
          "bdata": "AAAAAABAakAAAAAAADXRQAAAAAAA+MtAAAAAAABJ1kAAAAAAAFCUQAAAAAAAAAAAAAAAAICW0UAAAAAAgHDUQAAAAAAAF8tAAAAAAADAl0AAAAAAAABeQAAAAAAA2JNAAAAAAAD8rEAAAAAAABiVQAAAAACA8c9AAAAAAAAUrkA=",
          "dtype": "f8"
         }
        }
       ],
       "layout": {
        "template": {
         "data": {
          "bar": [
           {
            "error_x": {
             "color": "#2a3f5f"
            },
            "error_y": {
             "color": "#2a3f5f"
            },
            "marker": {
             "line": {
              "color": "white",
              "width": 0.5
             },
             "pattern": {
              "fillmode": "overlay",
              "size": 10,
              "solidity": 0.2
             }
            },
            "type": "bar"
           }
          ],
          "barpolar": [
           {
            "marker": {
             "line": {
              "color": "white",
              "width": 0.5
             },
             "pattern": {
              "fillmode": "overlay",
              "size": 10,
              "solidity": 0.2
             }
            },
            "type": "barpolar"
           }
          ],
          "carpet": [
           {
            "aaxis": {
             "endlinecolor": "#2a3f5f",
             "gridcolor": "#C8D4E3",
             "linecolor": "#C8D4E3",
             "minorgridcolor": "#C8D4E3",
             "startlinecolor": "#2a3f5f"
            },
            "baxis": {
             "endlinecolor": "#2a3f5f",
             "gridcolor": "#C8D4E3",
             "linecolor": "#C8D4E3",
             "minorgridcolor": "#C8D4E3",
             "startlinecolor": "#2a3f5f"
            },
            "type": "carpet"
           }
          ],
          "choropleth": [
           {
            "colorbar": {
             "outlinewidth": 0,
             "ticks": ""
            },
            "type": "choropleth"
           }
          ],
          "contour": [
           {
            "colorbar": {
             "outlinewidth": 0,
             "ticks": ""
            },
            "colorscale": [
             [
              0,
              "#0d0887"
             ],
             [
              0.1111111111111111,
              "#46039f"
             ],
             [
              0.2222222222222222,
              "#7201a8"
             ],
             [
              0.3333333333333333,
              "#9c179e"
             ],
             [
              0.4444444444444444,
              "#bd3786"
             ],
             [
              0.5555555555555556,
              "#d8576b"
             ],
             [
              0.6666666666666666,
              "#ed7953"
             ],
             [
              0.7777777777777778,
              "#fb9f3a"
             ],
             [
              0.8888888888888888,
              "#fdca26"
             ],
             [
              1,
              "#f0f921"
             ]
            ],
            "type": "contour"
           }
          ],
          "contourcarpet": [
           {
            "colorbar": {
             "outlinewidth": 0,
             "ticks": ""
            },
            "type": "contourcarpet"
           }
          ],
          "heatmap": [
           {
            "colorbar": {
             "outlinewidth": 0,
             "ticks": ""
            },
            "colorscale": [
             [
              0,
              "#0d0887"
             ],
             [
              0.1111111111111111,
              "#46039f"
             ],
             [
              0.2222222222222222,
              "#7201a8"
             ],
             [
              0.3333333333333333,
              "#9c179e"
             ],
             [
              0.4444444444444444,
              "#bd3786"
             ],
             [
              0.5555555555555556,
              "#d8576b"
             ],
             [
              0.6666666666666666,
              "#ed7953"
             ],
             [
              0.7777777777777778,
              "#fb9f3a"
             ],
             [
              0.8888888888888888,
              "#fdca26"
             ],
             [
              1,
              "#f0f921"
             ]
            ],
            "type": "heatmap"
           }
          ],
          "histogram": [
           {
            "marker": {
             "pattern": {
              "fillmode": "overlay",
              "size": 10,
              "solidity": 0.2
             }
            },
            "type": "histogram"
           }
          ],
          "histogram2d": [
           {
            "colorbar": {
             "outlinewidth": 0,
             "ticks": ""
            },
            "colorscale": [
             [
              0,
              "#0d0887"
             ],
             [
              0.1111111111111111,
              "#46039f"
             ],
             [
              0.2222222222222222,
              "#7201a8"
             ],
             [
              0.3333333333333333,
              "#9c179e"
             ],
             [
              0.4444444444444444,
              "#bd3786"
             ],
             [
              0.5555555555555556,
              "#d8576b"
             ],
             [
              0.6666666666666666,
              "#ed7953"
             ],
             [
              0.7777777777777778,
              "#fb9f3a"
             ],
             [
              0.8888888888888888,
              "#fdca26"
             ],
             [
              1,
              "#f0f921"
             ]
            ],
            "type": "histogram2d"
           }
          ],
          "histogram2dcontour": [
           {
            "colorbar": {
             "outlinewidth": 0,
             "ticks": ""
            },
            "colorscale": [
             [
              0,
              "#0d0887"
             ],
             [
              0.1111111111111111,
              "#46039f"
             ],
             [
              0.2222222222222222,
              "#7201a8"
             ],
             [
              0.3333333333333333,
              "#9c179e"
             ],
             [
              0.4444444444444444,
              "#bd3786"
             ],
             [
              0.5555555555555556,
              "#d8576b"
             ],
             [
              0.6666666666666666,
              "#ed7953"
             ],
             [
              0.7777777777777778,
              "#fb9f3a"
             ],
             [
              0.8888888888888888,
              "#fdca26"
             ],
             [
              1,
              "#f0f921"
             ]
            ],
            "type": "histogram2dcontour"
           }
          ],
          "mesh3d": [
           {
            "colorbar": {
             "outlinewidth": 0,
             "ticks": ""
            },
            "type": "mesh3d"
           }
          ],
          "parcoords": [
           {
            "line": {
             "colorbar": {
              "outlinewidth": 0,
              "ticks": ""
             }
            },
            "type": "parcoords"
           }
          ],
          "pie": [
           {
            "automargin": true,
            "type": "pie"
           }
          ],
          "scatter": [
           {
            "fillpattern": {
             "fillmode": "overlay",
             "size": 10,
             "solidity": 0.2
            },
            "type": "scatter"
           }
          ],
          "scatter3d": [
           {
            "line": {
             "colorbar": {
              "outlinewidth": 0,
              "ticks": ""
             }
            },
            "marker": {
             "colorbar": {
              "outlinewidth": 0,
              "ticks": ""
             }
            },
            "type": "scatter3d"
           }
          ],
          "scattercarpet": [
           {
            "marker": {
             "colorbar": {
              "outlinewidth": 0,
              "ticks": ""
             }
            },
            "type": "scattercarpet"
           }
          ],
          "scattergeo": [
           {
            "marker": {
             "colorbar": {
              "outlinewidth": 0,
              "ticks": ""
             }
            },
            "type": "scattergeo"
           }
          ],
          "scattergl": [
           {
            "marker": {
             "colorbar": {
              "outlinewidth": 0,
              "ticks": ""
             }
            },
            "type": "scattergl"
           }
          ],
          "scattermap": [
           {
            "marker": {
             "colorbar": {
              "outlinewidth": 0,
              "ticks": ""
             }
            },
            "type": "scattermap"
           }
          ],
          "scattermapbox": [
           {
            "marker": {
             "colorbar": {
              "outlinewidth": 0,
              "ticks": ""
             }
            },
            "type": "scattermapbox"
           }
          ],
          "scatterpolar": [
           {
            "marker": {
             "colorbar": {
              "outlinewidth": 0,
              "ticks": ""
             }
            },
            "type": "scatterpolar"
           }
          ],
          "scatterpolargl": [
           {
            "marker": {
             "colorbar": {
              "outlinewidth": 0,
              "ticks": ""
             }
            },
            "type": "scatterpolargl"
           }
          ],
          "scatterternary": [
           {
            "marker": {
             "colorbar": {
              "outlinewidth": 0,
              "ticks": ""
             }
            },
            "type": "scatterternary"
           }
          ],
          "surface": [
           {
            "colorbar": {
             "outlinewidth": 0,
             "ticks": ""
            },
            "colorscale": [
             [
              0,
              "#0d0887"
             ],
             [
              0.1111111111111111,
              "#46039f"
             ],
             [
              0.2222222222222222,
              "#7201a8"
             ],
             [
              0.3333333333333333,
              "#9c179e"
             ],
             [
              0.4444444444444444,
              "#bd3786"
             ],
             [
              0.5555555555555556,
              "#d8576b"
             ],
             [
              0.6666666666666666,
              "#ed7953"
             ],
             [
              0.7777777777777778,
              "#fb9f3a"
             ],
             [
              0.8888888888888888,
              "#fdca26"
             ],
             [
              1,
              "#f0f921"
             ]
            ],
            "type": "surface"
           }
          ],
          "table": [
           {
            "cells": {
             "fill": {
              "color": "#EBF0F8"
             },
             "line": {
              "color": "white"
             }
            },
            "header": {
             "fill": {
              "color": "#C8D4E3"
             },
             "line": {
              "color": "white"
             }
            },
            "type": "table"
           }
          ]
         },
         "layout": {
          "annotationdefaults": {
           "arrowcolor": "#2a3f5f",
           "arrowhead": 0,
           "arrowwidth": 1
          },
          "autotypenumbers": "strict",
          "coloraxis": {
           "colorbar": {
            "outlinewidth": 0,
            "ticks": ""
           }
          },
          "colorscale": {
           "diverging": [
            [
             0,
             "#8e0152"
            ],
            [
             0.1,
             "#c51b7d"
            ],
            [
             0.2,
             "#de77ae"
            ],
            [
             0.3,
             "#f1b6da"
            ],
            [
             0.4,
             "#fde0ef"
            ],
            [
             0.5,
             "#f7f7f7"
            ],
            [
             0.6,
             "#e6f5d0"
            ],
            [
             0.7,
             "#b8e186"
            ],
            [
             0.8,
             "#7fbc41"
            ],
            [
             0.9,
             "#4d9221"
            ],
            [
             1,
             "#276419"
            ]
           ],
           "sequential": [
            [
             0,
             "#0d0887"
            ],
            [
             0.1111111111111111,
             "#46039f"
            ],
            [
             0.2222222222222222,
             "#7201a8"
            ],
            [
             0.3333333333333333,
             "#9c179e"
            ],
            [
             0.4444444444444444,
             "#bd3786"
            ],
            [
             0.5555555555555556,
             "#d8576b"
            ],
            [
             0.6666666666666666,
             "#ed7953"
            ],
            [
             0.7777777777777778,
             "#fb9f3a"
            ],
            [
             0.8888888888888888,
             "#fdca26"
            ],
            [
             1,
             "#f0f921"
            ]
           ],
           "sequentialminus": [
            [
             0,
             "#0d0887"
            ],
            [
             0.1111111111111111,
             "#46039f"
            ],
            [
             0.2222222222222222,
             "#7201a8"
            ],
            [
             0.3333333333333333,
             "#9c179e"
            ],
            [
             0.4444444444444444,
             "#bd3786"
            ],
            [
             0.5555555555555556,
             "#d8576b"
            ],
            [
             0.6666666666666666,
             "#ed7953"
            ],
            [
             0.7777777777777778,
             "#fb9f3a"
            ],
            [
             0.8888888888888888,
             "#fdca26"
            ],
            [
             1,
             "#f0f921"
            ]
           ]
          },
          "colorway": [
           "#636efa",
           "#EF553B",
           "#00cc96",
           "#ab63fa",
           "#FFA15A",
           "#19d3f3",
           "#FF6692",
           "#B6E880",
           "#FF97FF",
           "#FECB52"
          ],
          "font": {
           "color": "#2a3f5f"
          },
          "geo": {
           "bgcolor": "white",
           "lakecolor": "white",
           "landcolor": "white",
           "showlakes": true,
           "showland": true,
           "subunitcolor": "#C8D4E3"
          },
          "hoverlabel": {
           "align": "left"
          },
          "hovermode": "closest",
          "mapbox": {
           "style": "light"
          },
          "paper_bgcolor": "white",
          "plot_bgcolor": "white",
          "polar": {
           "angularaxis": {
            "gridcolor": "#EBF0F8",
            "linecolor": "#EBF0F8",
            "ticks": ""
           },
           "bgcolor": "white",
           "radialaxis": {
            "gridcolor": "#EBF0F8",
            "linecolor": "#EBF0F8",
            "ticks": ""
           }
          },
          "scene": {
           "xaxis": {
            "backgroundcolor": "white",
            "gridcolor": "#DFE8F3",
            "gridwidth": 2,
            "linecolor": "#EBF0F8",
            "showbackground": true,
            "ticks": "",
            "zerolinecolor": "#EBF0F8"
           },
           "yaxis": {
            "backgroundcolor": "white",
            "gridcolor": "#DFE8F3",
            "gridwidth": 2,
            "linecolor": "#EBF0F8",
            "showbackground": true,
            "ticks": "",
            "zerolinecolor": "#EBF0F8"
           },
           "zaxis": {
            "backgroundcolor": "white",
            "gridcolor": "#DFE8F3",
            "gridwidth": 2,
            "linecolor": "#EBF0F8",
            "showbackground": true,
            "ticks": "",
            "zerolinecolor": "#EBF0F8"
           }
          },
          "shapedefaults": {
           "line": {
            "color": "#2a3f5f"
           }
          },
          "ternary": {
           "aaxis": {
            "gridcolor": "#DFE8F3",
            "linecolor": "#A2B1C6",
            "ticks": ""
           },
           "baxis": {
            "gridcolor": "#DFE8F3",
            "linecolor": "#A2B1C6",
            "ticks": ""
           },
           "bgcolor": "white",
           "caxis": {
            "gridcolor": "#DFE8F3",
            "linecolor": "#A2B1C6",
            "ticks": ""
           }
          },
          "title": {
           "x": 0.05
          },
          "xaxis": {
           "automargin": true,
           "gridcolor": "#EBF0F8",
           "linecolor": "#EBF0F8",
           "ticks": "",
           "title": {
            "standoff": 15
           },
           "zerolinecolor": "#EBF0F8",
           "zerolinewidth": 2
          },
          "yaxis": {
           "automargin": true,
           "gridcolor": "#EBF0F8",
           "linecolor": "#EBF0F8",
           "ticks": "",
           "title": {
            "standoff": 15
           },
           "zerolinecolor": "#EBF0F8",
           "zerolinewidth": 2
          }
         }
        },
        "title": {
         "text": "Weekly Fare Trends by Vehicle"
        },
        "xaxis": {
         "tickangle": -45,
         "title": {
          "text": "Week"
         }
        },
        "yaxis": {
         "title": {
          "text": "Total Fare Amount (KSH)"
         }
        }
       }
      }
     },
     "metadata": {},
     "output_type": "display_data"
    }
   ],
   "source": [
    "import os\n",
    "import json\n",
    "import plotly.io as pio\n",
    "\n",
    "def display_plotly_graph(file_path):\n",
    "    if not os.path.exists(file_path):\n",
    "        print('File not found')\n",
    "        return\n",
    "\n",
    "    with open(file_path, \"r\") as file:\n",
    "        fig_dict = json.load(file)  # This is a dictionary, not a string\n",
    "\n",
    "    # Convert dictionary back to a JSON string\n",
    "    fig_json_str = json.dumps(fig_dict)\n",
    "\n",
    "    # Convert JSON string to Plotly figure\n",
    "    fig = pio.from_json(fig_json_str)\n",
    "\n",
    "    # Display the graph\n",
    "    fig.show()\n",
    "\n",
    "# Example usage:\n",
    "path = \"/home/tjselevani/Desktop/Apps/vscode/python/python analysis/json/all/week/weekly_fares_line.json\"\n",
    "display_plotly_graph(path)\n"
   ]
  }
 ],
 "metadata": {
  "kernelspec": {
   "display_name": "venv",
   "language": "python",
   "name": "python3"
  },
  "language_info": {
   "codemirror_mode": {
    "name": "ipython",
    "version": 3
   },
   "file_extension": ".py",
   "mimetype": "text/x-python",
   "name": "python",
   "nbconvert_exporter": "python",
   "pygments_lexer": "ipython3",
   "version": "3.13.0"
  }
 },
 "nbformat": 4,
 "nbformat_minor": 2
}
