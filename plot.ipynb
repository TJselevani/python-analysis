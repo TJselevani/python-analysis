{
 "cells": [
  {
   "cell_type": "code",
   "execution_count": 5,
   "metadata": {},
   "outputs": [
    {
     "data": {
      "application/vnd.plotly.v1+json": {
       "config": {
        "plotlyServerURL": "https://plot.ly"
       },
       "data": [
        {
         "marker": {
          "color": "blue",
          "opacity": 0.6
         },
         "mode": "markers",
         "name": "SM191",
         "type": "scatter",
         "x": {
          "bdata": "FwMAABgDAAAYAwAA",
          "dtype": "i4"
         },
         "y": {
          "bdata": "IANSAywB",
          "dtype": "i2"
         }
        },
        {
         "marker": {
          "color": "green",
          "opacity": 0.6
         },
         "mode": "markers",
         "name": "SM192",
         "type": "scatter",
         "x": {
          "bdata": "ZwEAAOsBAADsAQAA7AEAAE0CAABOAgAATgIAACUDAABDAwAARAMAAA==",
          "dtype": "i4"
         },
         "y": {
          "bdata": "eAAyAHgAMgBSAyAD9AEeABQAjAA=",
          "dtype": "i2"
         }
        },
        {
         "marker": {
          "color": "yellow",
          "opacity": 0.6
         },
         "mode": "markers",
         "name": "SM944",
         "type": "scatter",
         "x": {
          "bdata": "vAEAAMcBAADIAQAAyQEAAM0BAADOAQAA0AEAANEBAADTAQAA0wEAANsBAADcAQAA3QEAAN4BAADfAQAA6wEAAPsBAABeAgAAXgIAAF4CAABfAgAAXwIAAGECAABhAgAAYgIAAGICAABjAgAAZAIAAGYCAABpAgAAhwIAAKMCAAClAgAApQIAAKgCAACpAgAAqQIAAKsCAADzAgAA9AIAAPQCAAD1AgAA9gIAAPYCAAD4AgAA+QIAAPkCAAD6AgAA+wIAAPsCAAD8AgAA/QIAAAYDAAAHAwAACAMAAA8DAAAbAwAAGwMAAAYEAAAHBAAABwQAAAgEAAAJBAAACwQAAA4EAAAOBAAADwQAAA8EAAARBAAAEQQAABIEAAAUBAAAFQQAABYEAAAYBAAALgQAAA==",
          "dtype": "i4"
         },
         "y": {
          "bdata": "8AB4AGQAMgB4AHgAMgBkADIAUAB4AHgAeAB4AHgAZABkAFAAMgBQADIARgBkABQAZABkAFAAyAAyADIAUAAeAB4AHgA8AB4AHgAyADIAMgBGAGQAZABkAEYAZABkAEYARgAyAGQAZABkAGQAZABQAEYAZACWAJYAlgCWAJYAlgCWACwBlgCWAJYAlgCWAJYAlgCWADIAlgA=",
          "dtype": "i2"
         }
        },
        {
         "marker": {
          "color": "purple",
          "opacity": 0.6
         },
         "mode": "markers",
         "name": "SM055",
         "type": "scatter",
         "x": {
          "bdata": "MQEAAEABAABAAQAAQAEAAEABAABBAQAAVwEAAFgBAABfAQAAjAEAAKQBAACkAQAApQEAAKcBAACpAQAAqQEAAKoBAACrAQAAqwEAAKwBAACsAQAArgEAALEBAADeAQAA3gEAAA0CAAAOAgAADwIAABECAAATAgAAEwIAABUCAAAWAgAAFgIAACoCAABAAgAAQQIAAEECAABBAgAAQgIAAIICAACDAgAAhQIAAIYCAACHAgAAkQIAAJICAACwAgAAsAIAALECAACyAgAAsgIAALICAACzAgAAswIAALYCAAC3AgAAtwIAALkCAADJAgAA7AIAAPgCAAD4AgAA+AIAAPwCAAALAwAADQMAACMDAAAkAwAAJAMAAHIDAABzAwAAcwMAAHkDAAB5AwAAeQMAAHoDAAD0AwAA9gMAAPcDAAD3AwAA+AMAAPkDAAD5AwAA+QMAAPoDAAD6AwAA/AMAAPwDAAD+AwAABwQAAAkEAAAOBAAAEgQAABIEAAAYBAAAGAQAACIEAAA8BAAAPgQAAEMEAABFBAAARgQAAEYEAABJBAAASgQAAFIEAABTBAAAfgQAAH4EAACABAAApAQAAA==",
          "dtype": "i4"
         },
         "y": {
          "bdata": "HgAoAB4AMgAyADIAMgAyAB4AeAB4AHgAeADIAHgAeAB4AHgAeAB4AHgAeAB4AMgAMgC0AFoAWgBaAFoAWgBQAFoACgBaADIAMgAyADIAMgBQAFAAtABQAKAAUABQADwAPAA8ADwAeAA8ADwAPAA8AHgAPAA8AB4AFACMAEYARgA8ADwAMgA8AHgAPAAyADIAFAAyADIAMgBkAGQAZADIAGQAZABkAGQAZABkAGQAZABkAMgAZABkAGQAZABkAJYAZADcADIAMgBkADIAlgAyADIAMgAyADIAoABQAFAAUAA=",
          "dtype": "i2"
         }
        },
        {
         "marker": {
          "color": "orange",
          "opacity": 0.6
         },
         "mode": "markers",
         "name": "SM024",
         "type": "scatter",
         "x": {
          "bdata": "GwIAAFwCAABdAgAAXgIAAF8CAADhAwAA",
          "dtype": "i4"
         },
         "y": {
          "bdata": "eABSAyADUgPuAjIA",
          "dtype": "i2"
         }
        },
        {
         "marker": {
          "color": "red",
          "opacity": 0.6
         },
         "mode": "markers",
         "name": "Failed Transactions",
         "type": "scatter",
         "x": {
          "bdata": "QAEAAFcBAACkAQAApwEAANwBAADrAQAAEwIAAEECAABcAgAAYQIAAGMCAACwAgAAsAIAALICAACzAgAAtgIAAPMCAAD1AgAA9gIAAPoCAAAGAwAABwMAAAgDAAAjAwAAeQMAAHkDAAD3AwAA+QMAAP4DAAAHBAAAEQQAABIEAAASBAAARQQAAEYEAAA=",
          "dtype": "i4"
         },
         "y": {
          "bdata": "MgAyAHgAyAB4ADIAWgAyAFIDZABQADwAPAA8ADwAPAAyAGQAZABGAGQAZABkADwAMgAyAGQAZADIAGQAlgBkAGQAMgCWAA==",
          "dtype": "i2"
         }
        }
       ],
       "layout": {
        "template": {
         "data": {
          "bar": [
           {
            "error_x": {
             "color": "#2a3f5f"
            },
            "error_y": {
             "color": "#2a3f5f"
            },
            "marker": {
             "line": {
              "color": "white",
              "width": 0.5
             },
             "pattern": {
              "fillmode": "overlay",
              "size": 10,
              "solidity": 0.2
             }
            },
            "type": "bar"
           }
          ],
          "barpolar": [
           {
            "marker": {
             "line": {
              "color": "white",
              "width": 0.5
             },
             "pattern": {
              "fillmode": "overlay",
              "size": 10,
              "solidity": 0.2
             }
            },
            "type": "barpolar"
           }
          ],
          "carpet": [
           {
            "aaxis": {
             "endlinecolor": "#2a3f5f",
             "gridcolor": "#C8D4E3",
             "linecolor": "#C8D4E3",
             "minorgridcolor": "#C8D4E3",
             "startlinecolor": "#2a3f5f"
            },
            "baxis": {
             "endlinecolor": "#2a3f5f",
             "gridcolor": "#C8D4E3",
             "linecolor": "#C8D4E3",
             "minorgridcolor": "#C8D4E3",
             "startlinecolor": "#2a3f5f"
            },
            "type": "carpet"
           }
          ],
          "choropleth": [
           {
            "colorbar": {
             "outlinewidth": 0,
             "ticks": ""
            },
            "type": "choropleth"
           }
          ],
          "contour": [
           {
            "colorbar": {
             "outlinewidth": 0,
             "ticks": ""
            },
            "colorscale": [
             [
              0,
              "#0d0887"
             ],
             [
              0.1111111111111111,
              "#46039f"
             ],
             [
              0.2222222222222222,
              "#7201a8"
             ],
             [
              0.3333333333333333,
              "#9c179e"
             ],
             [
              0.4444444444444444,
              "#bd3786"
             ],
             [
              0.5555555555555556,
              "#d8576b"
             ],
             [
              0.6666666666666666,
              "#ed7953"
             ],
             [
              0.7777777777777778,
              "#fb9f3a"
             ],
             [
              0.8888888888888888,
              "#fdca26"
             ],
             [
              1,
              "#f0f921"
             ]
            ],
            "type": "contour"
           }
          ],
          "contourcarpet": [
           {
            "colorbar": {
             "outlinewidth": 0,
             "ticks": ""
            },
            "type": "contourcarpet"
           }
          ],
          "heatmap": [
           {
            "colorbar": {
             "outlinewidth": 0,
             "ticks": ""
            },
            "colorscale": [
             [
              0,
              "#0d0887"
             ],
             [
              0.1111111111111111,
              "#46039f"
             ],
             [
              0.2222222222222222,
              "#7201a8"
             ],
             [
              0.3333333333333333,
              "#9c179e"
             ],
             [
              0.4444444444444444,
              "#bd3786"
             ],
             [
              0.5555555555555556,
              "#d8576b"
             ],
             [
              0.6666666666666666,
              "#ed7953"
             ],
             [
              0.7777777777777778,
              "#fb9f3a"
             ],
             [
              0.8888888888888888,
              "#fdca26"
             ],
             [
              1,
              "#f0f921"
             ]
            ],
            "type": "heatmap"
           }
          ],
          "histogram": [
           {
            "marker": {
             "pattern": {
              "fillmode": "overlay",
              "size": 10,
              "solidity": 0.2
             }
            },
            "type": "histogram"
           }
          ],
          "histogram2d": [
           {
            "colorbar": {
             "outlinewidth": 0,
             "ticks": ""
            },
            "colorscale": [
             [
              0,
              "#0d0887"
             ],
             [
              0.1111111111111111,
              "#46039f"
             ],
             [
              0.2222222222222222,
              "#7201a8"
             ],
             [
              0.3333333333333333,
              "#9c179e"
             ],
             [
              0.4444444444444444,
              "#bd3786"
             ],
             [
              0.5555555555555556,
              "#d8576b"
             ],
             [
              0.6666666666666666,
              "#ed7953"
             ],
             [
              0.7777777777777778,
              "#fb9f3a"
             ],
             [
              0.8888888888888888,
              "#fdca26"
             ],
             [
              1,
              "#f0f921"
             ]
            ],
            "type": "histogram2d"
           }
          ],
          "histogram2dcontour": [
           {
            "colorbar": {
             "outlinewidth": 0,
             "ticks": ""
            },
            "colorscale": [
             [
              0,
              "#0d0887"
             ],
             [
              0.1111111111111111,
              "#46039f"
             ],
             [
              0.2222222222222222,
              "#7201a8"
             ],
             [
              0.3333333333333333,
              "#9c179e"
             ],
             [
              0.4444444444444444,
              "#bd3786"
             ],
             [
              0.5555555555555556,
              "#d8576b"
             ],
             [
              0.6666666666666666,
              "#ed7953"
             ],
             [
              0.7777777777777778,
              "#fb9f3a"
             ],
             [
              0.8888888888888888,
              "#fdca26"
             ],
             [
              1,
              "#f0f921"
             ]
            ],
            "type": "histogram2dcontour"
           }
          ],
          "mesh3d": [
           {
            "colorbar": {
             "outlinewidth": 0,
             "ticks": ""
            },
            "type": "mesh3d"
           }
          ],
          "parcoords": [
           {
            "line": {
             "colorbar": {
              "outlinewidth": 0,
              "ticks": ""
             }
            },
            "type": "parcoords"
           }
          ],
          "pie": [
           {
            "automargin": true,
            "type": "pie"
           }
          ],
          "scatter": [
           {
            "fillpattern": {
             "fillmode": "overlay",
             "size": 10,
             "solidity": 0.2
            },
            "type": "scatter"
           }
          ],
          "scatter3d": [
           {
            "line": {
             "colorbar": {
              "outlinewidth": 0,
              "ticks": ""
             }
            },
            "marker": {
             "colorbar": {
              "outlinewidth": 0,
              "ticks": ""
             }
            },
            "type": "scatter3d"
           }
          ],
          "scattercarpet": [
           {
            "marker": {
             "colorbar": {
              "outlinewidth": 0,
              "ticks": ""
             }
            },
            "type": "scattercarpet"
           }
          ],
          "scattergeo": [
           {
            "marker": {
             "colorbar": {
              "outlinewidth": 0,
              "ticks": ""
             }
            },
            "type": "scattergeo"
           }
          ],
          "scattergl": [
           {
            "marker": {
             "colorbar": {
              "outlinewidth": 0,
              "ticks": ""
             }
            },
            "type": "scattergl"
           }
          ],
          "scattermap": [
           {
            "marker": {
             "colorbar": {
              "outlinewidth": 0,
              "ticks": ""
             }
            },
            "type": "scattermap"
           }
          ],
          "scattermapbox": [
           {
            "marker": {
             "colorbar": {
              "outlinewidth": 0,
              "ticks": ""
             }
            },
            "type": "scattermapbox"
           }
          ],
          "scatterpolar": [
           {
            "marker": {
             "colorbar": {
              "outlinewidth": 0,
              "ticks": ""
             }
            },
            "type": "scatterpolar"
           }
          ],
          "scatterpolargl": [
           {
            "marker": {
             "colorbar": {
              "outlinewidth": 0,
              "ticks": ""
             }
            },
            "type": "scatterpolargl"
           }
          ],
          "scatterternary": [
           {
            "marker": {
             "colorbar": {
              "outlinewidth": 0,
              "ticks": ""
             }
            },
            "type": "scatterternary"
           }
          ],
          "surface": [
           {
            "colorbar": {
             "outlinewidth": 0,
             "ticks": ""
            },
            "colorscale": [
             [
              0,
              "#0d0887"
             ],
             [
              0.1111111111111111,
              "#46039f"
             ],
             [
              0.2222222222222222,
              "#7201a8"
             ],
             [
              0.3333333333333333,
              "#9c179e"
             ],
             [
              0.4444444444444444,
              "#bd3786"
             ],
             [
              0.5555555555555556,
              "#d8576b"
             ],
             [
              0.6666666666666666,
              "#ed7953"
             ],
             [
              0.7777777777777778,
              "#fb9f3a"
             ],
             [
              0.8888888888888888,
              "#fdca26"
             ],
             [
              1,
              "#f0f921"
             ]
            ],
            "type": "surface"
           }
          ],
          "table": [
           {
            "cells": {
             "fill": {
              "color": "#EBF0F8"
             },
             "line": {
              "color": "white"
             }
            },
            "header": {
             "fill": {
              "color": "#C8D4E3"
             },
             "line": {
              "color": "white"
             }
            },
            "type": "table"
           }
          ]
         },
         "layout": {
          "annotationdefaults": {
           "arrowcolor": "#2a3f5f",
           "arrowhead": 0,
           "arrowwidth": 1
          },
          "autotypenumbers": "strict",
          "coloraxis": {
           "colorbar": {
            "outlinewidth": 0,
            "ticks": ""
           }
          },
          "colorscale": {
           "diverging": [
            [
             0,
             "#8e0152"
            ],
            [
             0.1,
             "#c51b7d"
            ],
            [
             0.2,
             "#de77ae"
            ],
            [
             0.3,
             "#f1b6da"
            ],
            [
             0.4,
             "#fde0ef"
            ],
            [
             0.5,
             "#f7f7f7"
            ],
            [
             0.6,
             "#e6f5d0"
            ],
            [
             0.7,
             "#b8e186"
            ],
            [
             0.8,
             "#7fbc41"
            ],
            [
             0.9,
             "#4d9221"
            ],
            [
             1,
             "#276419"
            ]
           ],
           "sequential": [
            [
             0,
             "#0d0887"
            ],
            [
             0.1111111111111111,
             "#46039f"
            ],
            [
             0.2222222222222222,
             "#7201a8"
            ],
            [
             0.3333333333333333,
             "#9c179e"
            ],
            [
             0.4444444444444444,
             "#bd3786"
            ],
            [
             0.5555555555555556,
             "#d8576b"
            ],
            [
             0.6666666666666666,
             "#ed7953"
            ],
            [
             0.7777777777777778,
             "#fb9f3a"
            ],
            [
             0.8888888888888888,
             "#fdca26"
            ],
            [
             1,
             "#f0f921"
            ]
           ],
           "sequentialminus": [
            [
             0,
             "#0d0887"
            ],
            [
             0.1111111111111111,
             "#46039f"
            ],
            [
             0.2222222222222222,
             "#7201a8"
            ],
            [
             0.3333333333333333,
             "#9c179e"
            ],
            [
             0.4444444444444444,
             "#bd3786"
            ],
            [
             0.5555555555555556,
             "#d8576b"
            ],
            [
             0.6666666666666666,
             "#ed7953"
            ],
            [
             0.7777777777777778,
             "#fb9f3a"
            ],
            [
             0.8888888888888888,
             "#fdca26"
            ],
            [
             1,
             "#f0f921"
            ]
           ]
          },
          "colorway": [
           "#636efa",
           "#EF553B",
           "#00cc96",
           "#ab63fa",
           "#FFA15A",
           "#19d3f3",
           "#FF6692",
           "#B6E880",
           "#FF97FF",
           "#FECB52"
          ],
          "font": {
           "color": "#2a3f5f"
          },
          "geo": {
           "bgcolor": "white",
           "lakecolor": "white",
           "landcolor": "white",
           "showlakes": true,
           "showland": true,
           "subunitcolor": "#C8D4E3"
          },
          "hoverlabel": {
           "align": "left"
          },
          "hovermode": "closest",
          "mapbox": {
           "style": "light"
          },
          "paper_bgcolor": "white",
          "plot_bgcolor": "white",
          "polar": {
           "angularaxis": {
            "gridcolor": "#EBF0F8",
            "linecolor": "#EBF0F8",
            "ticks": ""
           },
           "bgcolor": "white",
           "radialaxis": {
            "gridcolor": "#EBF0F8",
            "linecolor": "#EBF0F8",
            "ticks": ""
           }
          },
          "scene": {
           "xaxis": {
            "backgroundcolor": "white",
            "gridcolor": "#DFE8F3",
            "gridwidth": 2,
            "linecolor": "#EBF0F8",
            "showbackground": true,
            "ticks": "",
            "zerolinecolor": "#EBF0F8"
           },
           "yaxis": {
            "backgroundcolor": "white",
            "gridcolor": "#DFE8F3",
            "gridwidth": 2,
            "linecolor": "#EBF0F8",
            "showbackground": true,
            "ticks": "",
            "zerolinecolor": "#EBF0F8"
           },
           "zaxis": {
            "backgroundcolor": "white",
            "gridcolor": "#DFE8F3",
            "gridwidth": 2,
            "linecolor": "#EBF0F8",
            "showbackground": true,
            "ticks": "",
            "zerolinecolor": "#EBF0F8"
           }
          },
          "shapedefaults": {
           "line": {
            "color": "#2a3f5f"
           }
          },
          "ternary": {
           "aaxis": {
            "gridcolor": "#DFE8F3",
            "linecolor": "#A2B1C6",
            "ticks": ""
           },
           "baxis": {
            "gridcolor": "#DFE8F3",
            "linecolor": "#A2B1C6",
            "ticks": ""
           },
           "bgcolor": "white",
           "caxis": {
            "gridcolor": "#DFE8F3",
            "linecolor": "#A2B1C6",
            "ticks": ""
           }
          },
          "title": {
           "x": 0.05
          },
          "xaxis": {
           "automargin": true,
           "gridcolor": "#EBF0F8",
           "linecolor": "#EBF0F8",
           "ticks": "",
           "title": {
            "standoff": 15
           },
           "zerolinecolor": "#EBF0F8",
           "zerolinewidth": 2
          },
          "yaxis": {
           "automargin": true,
           "gridcolor": "#EBF0F8",
           "linecolor": "#EBF0F8",
           "ticks": "",
           "title": {
            "standoff": 15
           },
           "zerolinecolor": "#EBF0F8",
           "zerolinewidth": 2
          }
         }
        },
        "title": {
         "text": "Scatter Plot of Credit Transactions (2024-12-06)"
        },
        "xaxis": {
         "ticktext": [
          "00:00",
          "01:00",
          "02:00",
          "03:00",
          "04:00",
          "05:00",
          "06:00",
          "07:00",
          "08:00",
          "09:00",
          "10:00",
          "11:00",
          "12:00",
          "13:00",
          "14:00",
          "15:00",
          "16:00",
          "17:00",
          "18:00",
          "19:00",
          "20:00",
          "21:00",
          "22:00",
          "23:00",
          "24:00"
         ],
         "tickvals": [
          0,
          60,
          120,
          180,
          240,
          300,
          360,
          420,
          480,
          540,
          600,
          660,
          720,
          780,
          840,
          900,
          960,
          1020,
          1080,
          1140,
          1200,
          1260,
          1320,
          1380,
          1440
         ],
         "title": {
          "text": "Time of Day"
         }
        },
        "yaxis": {
         "title": {
          "text": "Transaction Amount (Ksh)"
         }
        }
       }
      }
     },
     "metadata": {},
     "output_type": "display_data"
    }
   ],
   "source": [
    "import os\n",
    "import json\n",
    "import plotly.io as pio\n",
    "\n",
    "def display_plotly_graph(file_path):\n",
    "    if not os.path.exists(file_path):\n",
    "        print('File not found')\n",
    "        return\n",
    "\n",
    "    with open(file_path, \"r\") as file:\n",
    "        fig_dict = json.load(file)  # This is a dictionary, not a string\n",
    "\n",
    "    # Convert dictionary back to a JSON string\n",
    "    fig_json_str = json.dumps(fig_dict)\n",
    "\n",
    "    # Convert JSON string to Plotly figure\n",
    "    fig = pio.from_json(fig_json_str)\n",
    "\n",
    "    # Display the graph\n",
    "    fig.show()\n",
    "\n",
    "# Example usage:\n",
    "path = \"/home/tjselevani/Desktop/Apps/vscode/python/python analysis/json/all/day/day_scatter_earnings_2024-12-06.json\"\n",
    "display_plotly_graph(path)\n"
   ]
  }
 ],
 "metadata": {
  "kernelspec": {
   "display_name": "venv",
   "language": "python",
   "name": "python3"
  },
  "language_info": {
   "codemirror_mode": {
    "name": "ipython",
    "version": 3
   },
   "file_extension": ".py",
   "mimetype": "text/x-python",
   "name": "python",
   "nbconvert_exporter": "python",
   "pygments_lexer": "ipython3",
   "version": "3.13.0"
  }
 },
 "nbformat": 4,
 "nbformat_minor": 2
}
