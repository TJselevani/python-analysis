{
 "cells": [
  {
   "cell_type": "code",
   "execution_count": null,
   "id": "75dfdf3f-561a-4480-a2e8-9232e9764175",
   "metadata": {},
   "outputs": [],
   "source": [
    "# packagaes and dependency import\n",
    "import pandas as pd\n",
    "import seaborn as sns # for Exploratory Data Analysis\n",
    "import numpy as np\n",
    "import matplotlib\n",
    "from pandas import DataFrame\n",
    "\n",
    "matplotlib.use('TkAgg')  # or 'QtAgg' if PyQt is installed {pip install PyQt6}\n",
    "import matplotlib.pyplot as plt"
   ]
  },
  {
   "cell_type": "code",
   "execution_count": null,
   "id": "f67ad4f9-5266-4782-8991-49e9d58ddbb8",
   "metadata": {},
   "outputs": [],
   "source": [
    "#Data Import \n",
    "data: DataFrame = pd.read_csv(\"/home/tjselevani/PycharmProjects/PythonProject/data/last-3-months-transactions.csv\")"
   ]
  },
  {
   "cell_type": "code",
   "execution_count": null,
   "id": "c702f3f7-1d60-4777-8897-d1009a840257",
   "metadata": {},
   "outputs": [],
   "source": [
    "data.head()"
   ]
  },
  {
   "cell_type": "code",
   "execution_count": null,
   "id": "724c864d-3165-4517-abd4-350c5eadd404",
   "metadata": {},
   "outputs": [],
   "source": [
    "data.tail()"
   ]
  },
  {
   "cell_type": "code",
   "execution_count": null,
   "id": "c1557ed8-404e-40ce-9249-58f47b936a6a",
   "metadata": {},
   "outputs": [],
   "source": [
    "data.shape"
   ]
  },
  {
   "cell_type": "code",
   "execution_count": null,
   "id": "722d4170-4659-44ce-89e7-0b71b5f53d9b",
   "metadata": {},
   "outputs": [],
   "source": [
    "data.columns"
   ]
  },
  {
   "cell_type": "code",
   "execution_count": null,
   "id": "722b0571-81d6-45b6-9d60-0c816960367d",
   "metadata": {},
   "outputs": [],
   "source": [
    "data.describe()"
   ]
  },
  {
   "cell_type": "code",
   "execution_count": null,
   "id": "8f16dd38-7b38-4272-8748-f13f67964d16",
   "metadata": {},
   "outputs": [],
   "source": [
    "data.isnull().sum()"
   ]
  },
  {
   "cell_type": "code",
   "execution_count": null,
   "id": "1bd067bc-4940-41cd-a750-cc4613ee316f",
   "metadata": {},
   "outputs": [],
   "source": [
    "#Data Visualization"
   ]
  },
  {
   "cell_type": "code",
   "execution_count": null,
   "id": "de21f59d-e868-4c2f-884f-84ff4312f107",
   "metadata": {},
   "outputs": [],
   "source": [
    "#represent the vehicles and the fare which they charge\n",
    "sns.relplot(y='amount', x='vehicle_booked', data=data)\n",
    "plt.show()"
   ]
  },
  {
   "cell_type": "code",
   "execution_count": null,
   "id": "d638bc53-4b6b-4bf0-9716-3efe9ad588da",
   "metadata": {},
   "outputs": [],
   "source": [
    "sns.lineplot(y='amount', x='created_at', data=data)\n",
    "plt.show()"
   ]
  },
  {
   "cell_type": "code",
   "execution_count": null,
   "id": "1bc2d9e1-c8f7-4932-8b67-a409b5e3a5c1",
   "metadata": {},
   "outputs": [],
   "source": [
    "sns.scatterplot(y='amount', x='created_at', data=data)\n",
    "plt.show()"
   ]
  },
  {
   "cell_type": "code",
   "execution_count": null,
   "id": "ba097b4d-8736-46cd-b5cc-b93017f6104d",
   "metadata": {},
   "outputs": [],
   "source": [
    "sns.boxplot(x='created_at', y='amount', data=data)\n",
    "plt.show()"
   ]
  },
  {
   "cell_type": "code",
   "execution_count": null,
   "id": "6dab38cb-bcbc-421d-b9f4-cc68ec81b035",
   "metadata": {},
   "outputs": [],
   "source": [
    "sns.violinplot(y='amount', x='vehicle_booked', data=data)\n",
    "plt.show()"
   ]
  },
  {
   "cell_type": "code",
   "execution_count": null,
   "id": "48f370ef-cf80-4b46-89e9-8e20adf40e49",
   "metadata": {},
   "outputs": [],
   "source": [
    "sns.barplot(x =\"vehicle_booked\", y =\"amount\", data = data) \n",
    "plt.show()"
   ]
  },
  {
   "cell_type": "code",
   "execution_count": null,
   "id": "a5d3b648-761a-4e92-84bf-9f0e8c000858",
   "metadata": {},
   "outputs": [],
   "source": [
    "# sns.set(style = 'whitegrid') \n",
    "# sns.swarmplot(x = data[\"amount\"]) \n",
    "# plt.show()"
   ]
  },
  {
   "cell_type": "code",
   "execution_count": null,
   "id": "cb7f059b-7894-4de1-a8f4-004faa61fec4",
   "metadata": {},
   "outputs": [],
   "source": [
    "sns.set(style = 'whitegrid') \n",
    "sns.pointplot(x = \"vehicle_booked\", y = \"amount\", data = data) \n",
    "plt.show()"
   ]
  }
 ],
 "metadata": {
  "kernelspec": {
   "display_name": "Python 3 (ipykernel)",
   "language": "python",
   "name": "python3"
  },
  "language_info": {
   "codemirror_mode": {
    "name": "ipython",
    "version": 3
   },
   "file_extension": ".py",
   "mimetype": "text/x-python",
   "name": "python",
   "nbconvert_exporter": "python",
   "pygments_lexer": "ipython3",
   "version": "3.12.5"
  }
 },
 "nbformat": 4,
 "nbformat_minor": 5
}
