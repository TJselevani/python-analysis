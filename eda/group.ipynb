{
 "cells": [
  {
   "cell_type": "code",
   "execution_count": 1,
   "metadata": {},
   "outputs": [],
   "source": [
    "# packages and dependencies import\n",
    "import pandas as pd\n",
    "import seaborn as sns # Used for Exploratory Data Analysis\n",
    "import numpy as np\n",
    "import matplotlib\n",
    "from pandas import DataFrame\n",
    "\n",
    "# matplotlib.use('TkAgg')  # or 'QtAgg' if PyQt is installed {pip install PyQt6}\n",
    "import matplotlib.pyplot as plt"
   ]
  },
  {
   "cell_type": "code",
   "execution_count": 2,
   "metadata": {},
   "outputs": [],
   "source": [
    "#Data Import \n",
    "data: DataFrame = pd.read_csv(\"/home/tjselevani/PycharmProjects/PythonProject/data/last-3-months-transactions.csv\")"
   ]
  },
  {
   "cell_type": "code",
   "execution_count": 3,
   "metadata": {},
   "outputs": [
    {
     "data": {
      "text/html": [
       "<div>\n",
       "<style scoped>\n",
       "    .dataframe tbody tr th:only-of-type {\n",
       "        vertical-align: middle;\n",
       "    }\n",
       "\n",
       "    .dataframe tbody tr th {\n",
       "        vertical-align: top;\n",
       "    }\n",
       "\n",
       "    .dataframe thead th {\n",
       "        text-align: right;\n",
       "    }\n",
       "</style>\n",
       "<table border=\"1\" class=\"dataframe\">\n",
       "  <thead>\n",
       "    <tr style=\"text-align: right;\">\n",
       "      <th></th>\n",
       "      <th>vehicle_booked</th>\n",
       "      <th>amount</th>\n",
       "      <th>payment_status</th>\n",
       "      <th>transaction_type</th>\n",
       "      <th>created_at</th>\n",
       "    </tr>\n",
       "  </thead>\n",
       "  <tbody>\n",
       "    <tr>\n",
       "      <th>0</th>\n",
       "      <td>SM192</td>\n",
       "      <td>100</td>\n",
       "      <td>3</td>\n",
       "      <td>CREDIT</td>\n",
       "      <td>2024-12-01 05:49:02.000000</td>\n",
       "    </tr>\n",
       "    <tr>\n",
       "      <th>1</th>\n",
       "      <td>SM192</td>\n",
       "      <td>50</td>\n",
       "      <td>2</td>\n",
       "      <td>CREDIT</td>\n",
       "      <td>2024-12-01 05:49:25.000000</td>\n",
       "    </tr>\n",
       "    <tr>\n",
       "      <th>2</th>\n",
       "      <td>SM192</td>\n",
       "      <td>100</td>\n",
       "      <td>2</td>\n",
       "      <td>CREDIT</td>\n",
       "      <td>2024-12-01 05:52:20.000000</td>\n",
       "    </tr>\n",
       "    <tr>\n",
       "      <th>3</th>\n",
       "      <td>SM944</td>\n",
       "      <td>200</td>\n",
       "      <td>2</td>\n",
       "      <td>CREDIT</td>\n",
       "      <td>2024-12-01 07:18:07.000000</td>\n",
       "    </tr>\n",
       "    <tr>\n",
       "      <th>4</th>\n",
       "      <td>SM055</td>\n",
       "      <td>80</td>\n",
       "      <td>2</td>\n",
       "      <td>CREDIT</td>\n",
       "      <td>2024-12-01 07:43:04.000000</td>\n",
       "    </tr>\n",
       "  </tbody>\n",
       "</table>\n",
       "</div>"
      ],
      "text/plain": [
       "  vehicle_booked  amount  payment_status transaction_type  \\\n",
       "0          SM192     100               3           CREDIT   \n",
       "1          SM192      50               2           CREDIT   \n",
       "2          SM192     100               2           CREDIT   \n",
       "3          SM944     200               2           CREDIT   \n",
       "4          SM055      80               2           CREDIT   \n",
       "\n",
       "                   created_at  \n",
       "0  2024-12-01 05:49:02.000000  \n",
       "1  2024-12-01 05:49:25.000000  \n",
       "2  2024-12-01 05:52:20.000000  \n",
       "3  2024-12-01 07:18:07.000000  \n",
       "4  2024-12-01 07:43:04.000000  "
      ]
     },
     "execution_count": 3,
     "metadata": {},
     "output_type": "execute_result"
    }
   ],
   "source": [
    "data.head()"
   ]
  },
  {
   "cell_type": "code",
   "execution_count": 4,
   "metadata": {},
   "outputs": [
    {
     "data": {
      "text/html": [
       "<div>\n",
       "<style scoped>\n",
       "    .dataframe tbody tr th:only-of-type {\n",
       "        vertical-align: middle;\n",
       "    }\n",
       "\n",
       "    .dataframe tbody tr th {\n",
       "        vertical-align: top;\n",
       "    }\n",
       "\n",
       "    .dataframe thead th {\n",
       "        text-align: right;\n",
       "    }\n",
       "</style>\n",
       "<table border=\"1\" class=\"dataframe\">\n",
       "  <thead>\n",
       "    <tr style=\"text-align: right;\">\n",
       "      <th></th>\n",
       "      <th>vehicle_booked</th>\n",
       "      <th>amount</th>\n",
       "      <th>payment_status</th>\n",
       "      <th>transaction_type</th>\n",
       "      <th>created_at</th>\n",
       "    </tr>\n",
       "  </thead>\n",
       "  <tbody>\n",
       "    <tr>\n",
       "      <th>9103</th>\n",
       "      <td>SM055</td>\n",
       "      <td>80</td>\n",
       "      <td>2</td>\n",
       "      <td>CREDIT</td>\n",
       "      <td>2025-03-11 18:38:30.000000</td>\n",
       "    </tr>\n",
       "    <tr>\n",
       "      <th>9104</th>\n",
       "      <td>SM055</td>\n",
       "      <td>80</td>\n",
       "      <td>3</td>\n",
       "      <td>CREDIT</td>\n",
       "      <td>2025-03-11 18:39:51.000000</td>\n",
       "    </tr>\n",
       "    <tr>\n",
       "      <th>9105</th>\n",
       "      <td>SM055</td>\n",
       "      <td>80</td>\n",
       "      <td>2</td>\n",
       "      <td>CREDIT</td>\n",
       "      <td>2025-03-11 18:41:19.000000</td>\n",
       "    </tr>\n",
       "    <tr>\n",
       "      <th>9106</th>\n",
       "      <td>SM944</td>\n",
       "      <td>70</td>\n",
       "      <td>3</td>\n",
       "      <td>CREDIT</td>\n",
       "      <td>2025-03-11 19:48:21.000000</td>\n",
       "    </tr>\n",
       "    <tr>\n",
       "      <th>9107</th>\n",
       "      <td>SM055</td>\n",
       "      <td>-2620</td>\n",
       "      <td>2</td>\n",
       "      <td>DEBIT</td>\n",
       "      <td>2025-03-11 19:52:04.000000</td>\n",
       "    </tr>\n",
       "  </tbody>\n",
       "</table>\n",
       "</div>"
      ],
      "text/plain": [
       "     vehicle_booked  amount  payment_status transaction_type  \\\n",
       "9103          SM055      80               2           CREDIT   \n",
       "9104          SM055      80               3           CREDIT   \n",
       "9105          SM055      80               2           CREDIT   \n",
       "9106          SM944      70               3           CREDIT   \n",
       "9107          SM055   -2620               2            DEBIT   \n",
       "\n",
       "                      created_at  \n",
       "9103  2025-03-11 18:38:30.000000  \n",
       "9104  2025-03-11 18:39:51.000000  \n",
       "9105  2025-03-11 18:41:19.000000  \n",
       "9106  2025-03-11 19:48:21.000000  \n",
       "9107  2025-03-11 19:52:04.000000  "
      ]
     },
     "execution_count": 4,
     "metadata": {},
     "output_type": "execute_result"
    }
   ],
   "source": [
    "data.tail()"
   ]
  },
  {
   "cell_type": "code",
   "execution_count": 5,
   "metadata": {},
   "outputs": [
    {
     "data": {
      "text/plain": [
       "(9108, 5)"
      ]
     },
     "execution_count": 5,
     "metadata": {},
     "output_type": "execute_result"
    }
   ],
   "source": [
    "data.shape"
   ]
  },
  {
   "cell_type": "code",
   "execution_count": 6,
   "metadata": {},
   "outputs": [
    {
     "data": {
      "text/plain": [
       "Index(['vehicle_booked', 'amount', 'payment_status', 'transaction_type',\n",
       "       'created_at'],\n",
       "      dtype='object')"
      ]
     },
     "execution_count": 6,
     "metadata": {},
     "output_type": "execute_result"
    }
   ],
   "source": [
    "data.columns"
   ]
  },
  {
   "cell_type": "code",
   "execution_count": 7,
   "metadata": {},
   "outputs": [
    {
     "data": {
      "text/html": [
       "<div>\n",
       "<style scoped>\n",
       "    .dataframe tbody tr th:only-of-type {\n",
       "        vertical-align: middle;\n",
       "    }\n",
       "\n",
       "    .dataframe tbody tr th {\n",
       "        vertical-align: top;\n",
       "    }\n",
       "\n",
       "    .dataframe thead th {\n",
       "        text-align: right;\n",
       "    }\n",
       "</style>\n",
       "<table border=\"1\" class=\"dataframe\">\n",
       "  <thead>\n",
       "    <tr style=\"text-align: right;\">\n",
       "      <th></th>\n",
       "      <th>amount</th>\n",
       "      <th>payment_status</th>\n",
       "    </tr>\n",
       "  </thead>\n",
       "  <tbody>\n",
       "    <tr>\n",
       "      <th>count</th>\n",
       "      <td>9.108000e+03</td>\n",
       "      <td>9108.000000</td>\n",
       "    </tr>\n",
       "    <tr>\n",
       "      <th>mean</th>\n",
       "      <td>7.803261e+04</td>\n",
       "      <td>2.145696</td>\n",
       "    </tr>\n",
       "    <tr>\n",
       "      <th>std</th>\n",
       "      <td>7.444778e+06</td>\n",
       "      <td>0.353753</td>\n",
       "    </tr>\n",
       "    <tr>\n",
       "      <th>min</th>\n",
       "      <td>-2.880000e+04</td>\n",
       "      <td>0.000000</td>\n",
       "    </tr>\n",
       "    <tr>\n",
       "      <th>25%</th>\n",
       "      <td>5.000000e+01</td>\n",
       "      <td>2.000000</td>\n",
       "    </tr>\n",
       "    <tr>\n",
       "      <th>50%</th>\n",
       "      <td>8.000000e+01</td>\n",
       "      <td>2.000000</td>\n",
       "    </tr>\n",
       "    <tr>\n",
       "      <th>75%</th>\n",
       "      <td>1.200000e+02</td>\n",
       "      <td>2.000000</td>\n",
       "    </tr>\n",
       "    <tr>\n",
       "      <th>max</th>\n",
       "      <td>7.104987e+08</td>\n",
       "      <td>3.000000</td>\n",
       "    </tr>\n",
       "  </tbody>\n",
       "</table>\n",
       "</div>"
      ],
      "text/plain": [
       "             amount  payment_status\n",
       "count  9.108000e+03     9108.000000\n",
       "mean   7.803261e+04        2.145696\n",
       "std    7.444778e+06        0.353753\n",
       "min   -2.880000e+04        0.000000\n",
       "25%    5.000000e+01        2.000000\n",
       "50%    8.000000e+01        2.000000\n",
       "75%    1.200000e+02        2.000000\n",
       "max    7.104987e+08        3.000000"
      ]
     },
     "execution_count": 7,
     "metadata": {},
     "output_type": "execute_result"
    }
   ],
   "source": [
    "data.describe()"
   ]
  },
  {
   "cell_type": "code",
   "execution_count": 8,
   "metadata": {},
   "outputs": [
    {
     "data": {
      "text/plain": [
       "vehicle_booked      0\n",
       "amount              0\n",
       "payment_status      0\n",
       "transaction_type    0\n",
       "created_at          0\n",
       "dtype: int64"
      ]
     },
     "execution_count": 8,
     "metadata": {},
     "output_type": "execute_result"
    }
   ],
   "source": [
    "data.isnull().sum()"
   ]
  },
  {
   "cell_type": "code",
   "execution_count": 9,
   "metadata": {},
   "outputs": [],
   "source": [
    "#Data Visualization"
   ]
  },
  {
   "cell_type": "code",
   "execution_count": null,
   "metadata": {},
   "outputs": [],
   "source": [
    "# Global variables for filtering\n",
    "# Example: Select multiple vehicles (or set to None for all vehicles)\n",
    "VEHICLES_SELECTED = [\"SM192\"]  # or None for all\n",
    "TRANSACTION_TYPE = \"CREDIT\""
   ]
  },
  {
   "cell_type": "code",
   "execution_count": null,
   "metadata": {},
   "outputs": [],
   "source": [
    "# Filter data for the specific vehicle \"sm191\"\n",
    "if VEHICLES_SELECTED is None:\n",
    "    vehicle_data = data[data['transaction_type'] == TRANSACTION_TYPE].copy()\n",
    "else:\n",
    "    vehicle_data = data[(data['vehicle_booked'].isin(VEHICLES_SELECTED)) & \n",
    "                        (data['transaction_type'] == TRANSACTION_TYPE)].copy()"
   ]
  },
  {
   "cell_type": "code",
   "execution_count": null,
   "metadata": {},
   "outputs": [],
   "source": [
    "\n",
    "# Convert 'created_at' to datetime\n",
    "vehicle_data['created_at'] = pd.to_datetime(vehicle_data['created_at'])\n",
    "\n",
    "# Option 1: Group by Day\n",
    "vehicle_data['day'] = vehicle_data['created_at'].dt.date  # Extracts only the date (YYYY-MM-DD)\n",
    "\n",
    "# Option 2: Group by Week\n",
    "vehicle_data['week'] = vehicle_data['created_at'].dt.to_period('W').astype(str)  # Group into weeks\n",
    "\n",
    "# Option 3: Group by Month\n",
    "vehicle_data['month'] = vehicle_data['created_at'].dt.to_period('M').astype(str)  # Group into months\n",
    "\n",
    "# Option 4: Group by Year\n",
    "vehicle_data['year'] = vehicle_data['created_at'].dt.year  # Extract year"
   ]
  },
  {
   "cell_type": "code",
   "execution_count": null,
   "metadata": {},
   "outputs": [],
   "source": [
    "\"\"\" {5} \"\"\"\n",
    "\n",
    "# Choose one grouping (change 'day' to 'week', 'month', or 'year' as needed)\n",
    "group_by = 'week'  # Change to 'day', 'week', 'month', or 'year' as required\n",
    "aggregated_data = vehicle_data.groupby(group_by)['amount'].sum().reset_index()\n",
    "\n",
    "# Plot\n",
    "plt.figure(figsize=(12, 6))\n",
    "sns.lineplot(x=group_by, y='amount', data=aggregated_data, marker='o')\n",
    "\n",
    "# Customize graph\n",
    "plt.title(f\"Total Fare Charges Over Time for {VEHICLE_BOOKED} ({TRANSACTION_TYPE} Transactions)\")\n",
    "plt.xlabel(group_by.capitalize())  # Dynamic label\n",
    "plt.ylabel(\"Total Fare Amount\")\n",
    "plt.xticks(rotation=45)\n",
    "plt.grid(True)\n",
    "\n",
    "# Show plot\n",
    "plt.show()\n"
   ]
  }
 ],
 "metadata": {
  "kernelspec": {
   "display_name": "venv",
   "language": "python",
   "name": "python3"
  },
  "language_info": {
   "codemirror_mode": {
    "name": "ipython",
    "version": 3
   },
   "file_extension": ".py",
   "mimetype": "text/x-python",
   "name": "python",
   "nbconvert_exporter": "python",
   "pygments_lexer": "ipython3",
   "version": "3.13.0"
  }
 },
 "nbformat": 4,
 "nbformat_minor": 2
}
