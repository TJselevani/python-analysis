{
 "cells": [
  {
   "cell_type": "code",
   "execution_count": 2,
   "metadata": {},
   "outputs": [],
   "source": [
    "# packages and dependencies import\n",
    "import os\n",
    "import sys\n",
    "import json\n",
    "import pandas as pd # used for data manipulation\n",
    "import numpy as np # used for mathematical operations\n",
    "\n",
    "# Used for Exploratory Data Analysis\n",
    "import seaborn as sns \n",
    "\n",
    "# used for data visualization\n",
    "import matplotlib\n",
    "import matplotlib.pyplot as plt\n",
    "\n",
    "# Used for data transfer visualization \n",
    "import plotly.graph_objects as go"
   ]
  },
  {
   "cell_type": "code",
   "execution_count": 3,
   "metadata": {},
   "outputs": [],
   "source": [
    "# Data Import\n",
    "data = pd.read_csv(\"/home/tjselevani/Desktop/Apps/vscode/python/python analysis/data/last-3-months-transactions.csv\")\n",
    "\n",
    "# Convert 'created_at' column to datetime if not already\n",
    "data['created_at'] = pd.to_datetime(data['created_at'])\n",
    "\n",
    "#Extract date \n",
    "data.loc[:, 'date'] = data['created_at'].dt.date\n",
    "\n",
    "# Extract time in minutes since start of the day\n",
    "data.loc[:, 'minutes'] = data['created_at'].dt.hour * 60 + data['created_at'].dt.minute\n",
    "\n",
    "# Extract time in hours since start of the day\n",
    "data.loc[:, 'hours'] = data['created_at'].dt.hour\n",
    "\n",
    "# Extract the day of the week (0 = Monday, 6 = Sunday)\n",
    "data.loc[:, 'day'] = data['created_at'].dt.dayofweek\n",
    "\n",
    "# Extract the week from 'created_at'\n",
    "data.loc[:, 'week'] = data['created_at'].dt.to_period('W').astype(str)"
   ]
  },
  {
   "cell_type": "code",
   "execution_count": 4,
   "metadata": {},
   "outputs": [],
   "source": [
    "def format_minutes_xticks():\n",
    "    \"\"\"Returns tick positions and labels for minutes of the day.\"\"\"\n",
    "    return range(0, 1441, 60), [f\"{h}:00\" for h in range(0, 25)]\n",
    "\n",
    "def format_hours_xticks():\n",
    "    \"\"\"Returns tick positions and labels for hours of the day.\"\"\"\n",
    "    return range(0, 25, 1), [f\"{h}:00\" for h in range(0, 25)]\n",
    "\n",
    "def format_days_xticks():\n",
    "    \"\"\"Returns tick positions and labels for days of the week.\"\"\"\n",
    "    days = [\"Mon\", \"Tue\", \"Wed\", \"Thu\", \"Fri\", \"Sat\", \"Sun\"]\n",
    "    return range(len(days)), days"
   ]
  },
  {
   "cell_type": "code",
   "execution_count": 5,
   "metadata": {},
   "outputs": [],
   "source": [
    "#data.head()"
   ]
  },
  {
   "cell_type": "code",
   "execution_count": 6,
   "metadata": {},
   "outputs": [],
   "source": [
    "# Filter data for the specific vehicle\n",
    "def get_vehicle_data(vehicle_id):\n",
    "    \"\"\"Returns all, credit, and debit transaction data for a given vehicle.\"\"\"\n",
    "    vehicle_df = data[data['vehicle_booked'] == vehicle_id].copy()\n",
    "    vehicle_dt = data[data['transaction_type'] == 'CREDIT'].copy()\n",
    "    \n",
    "    return {\n",
    "        \"all\": vehicle_dt,\n",
    "        \"credit\": vehicle_df[vehicle_df['transaction_type'] == 'CREDIT'].copy(),\n",
    "        \"debit\": vehicle_df[vehicle_df['transaction_type'] == 'DEBIT'].copy(),\n",
    "    }\n",
    "\n",
    "# Define the vehicles\n",
    "vehicles = ['SM191', 'SM192', 'SM055', 'SM024', 'SM944']\n",
    "\n",
    "# Create a dictionary to store data for all vehicles\n",
    "vehicle_data_dict = {v: get_vehicle_data(v) for v in vehicles}\n",
    "\n",
    "# Select a specific vehicle dynamically\n",
    "selected_vehicle = 'SM024'  # Change this to switch vehicles\n",
    "\n",
    "vehicle_data = vehicle_data_dict[selected_vehicle]['credit']\n",
    "vehicle_revenue = vehicle_data_dict[selected_vehicle]['debit']\n",
    "data = vehicle_data_dict[selected_vehicle]['all']\n"
   ]
  },
  {
   "cell_type": "code",
   "execution_count": 7,
   "metadata": {},
   "outputs": [],
   "source": [
    "# Define unique colors for each vehicle, plus \"Unknown\" and \"Failed Transactions\"\n",
    "vehicle_colors = {\n",
    "    'SM191': 'blue',\n",
    "    'SM192': 'green',\n",
    "    'SM944': 'yellow',\n",
    "    'SM055': 'purple',\n",
    "    'SM024': 'orange',\n",
    "    'Unknown': 'gray',\n",
    "    'Failed': 'red'\n",
    "}\n",
    "\n",
    "# Map colors to vehicle_booked, filling NaN values with a default color (e.g., gray)\n",
    "data.loc[:,'color'] = data['vehicle_booked'].map(vehicle_colors).fillna('gray')"
   ]
  },
  {
   "cell_type": "code",
   "execution_count": 9,
   "metadata": {},
   "outputs": [
    {
     "ename": "ImportError",
     "evalue": "attempted relative import with no known parent package",
     "output_type": "error",
     "traceback": [
      "\u001b[31m---------------------------------------------------------------------------\u001b[39m",
      "\u001b[31mImportError\u001b[39m                               Traceback (most recent call last)",
      "\u001b[36mCell\u001b[39m\u001b[36m \u001b[39m\u001b[32mIn[9]\u001b[39m\u001b[32m, line 1\u001b[39m\n\u001b[32m----> \u001b[39m\u001b[32m1\u001b[39m \u001b[38;5;28;01mfrom\u001b[39;00m\u001b[38;5;250m \u001b[39m\u001b[34;01m.\u001b[39;00m\u001b[34;01mday\u001b[39;00m\u001b[38;5;250m \u001b[39m\u001b[38;5;28;01mimport\u001b[39;00m generate_day_earnings_with_scatter_bundle\n\u001b[32m      3\u001b[39m generate_day_earnings_with_scatter_bundle(data, \u001b[33m\"\u001b[39m\u001b[33m2024-12-06\u001b[39m\u001b[33m\"\u001b[39m, \u001b[33m\"\u001b[39m\u001b[33mday_scatter_earnings\u001b[39m\u001b[33m\"\u001b[39m)\n",
      "\u001b[31mImportError\u001b[39m: attempted relative import with no known parent package"
     ]
    }
   ],
   "source": [
    "from .day import generate_day_earnings_with_scatter_bundle\n",
    "\n",
    "generate_day_earnings_with_scatter_bundle(data, \"2024-12-06\", \"day_scatter_earnings\")"
   ]
  }
 ],
 "metadata": {
  "kernelspec": {
   "display_name": "venv",
   "language": "python",
   "name": "python3"
  },
  "language_info": {
   "codemirror_mode": {
    "name": "ipython",
    "version": 3
   },
   "file_extension": ".py",
   "mimetype": "text/x-python",
   "name": "python",
   "nbconvert_exporter": "python",
   "pygments_lexer": "ipython3",
   "version": "3.13.0"
  }
 },
 "nbformat": 4,
 "nbformat_minor": 2
}
