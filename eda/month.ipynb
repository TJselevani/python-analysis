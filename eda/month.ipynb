{
 "cells": [
  {
   "cell_type": "code",
   "execution_count": null,
   "metadata": {},
   "outputs": [],
   "source": [
    "# packages and dependencies import\n",
    "import pandas as pd\n",
    "import seaborn as sns # Used for Exploratory Data Analysis\n",
    "import numpy as np\n",
    "import matplotlib\n",
    "from pandas import DataFrame\n",
    "\n",
    "# matplotlib.use('TkAgg')  # or 'QtAgg' if PyQt is installed {pip install PyQt6}\n",
    "import matplotlib.pyplot as plt"
   ]
  },
  {
   "cell_type": "code",
   "execution_count": null,
   "metadata": {},
   "outputs": [],
   "source": [
    "#Data Import \n",
    "data: DataFrame = pd.read_csv(\"/home/tjselevani/PycharmProjects/PythonProject/data/last-3-months-transactions.csv\")"
   ]
  },
  {
   "cell_type": "code",
   "execution_count": null,
   "metadata": {},
   "outputs": [],
   "source": [
    "data.head()"
   ]
  },
  {
   "cell_type": "code",
   "execution_count": null,
   "metadata": {},
   "outputs": [],
   "source": [
    "data.tail()"
   ]
  },
  {
   "cell_type": "code",
   "execution_count": null,
   "metadata": {},
   "outputs": [],
   "source": [
    "data.shape"
   ]
  },
  {
   "cell_type": "code",
   "execution_count": null,
   "metadata": {},
   "outputs": [],
   "source": [
    "data.columns"
   ]
  },
  {
   "cell_type": "code",
   "execution_count": null,
   "metadata": {},
   "outputs": [],
   "source": [
    "data.describe()"
   ]
  },
  {
   "cell_type": "code",
   "execution_count": null,
   "metadata": {},
   "outputs": [],
   "source": [
    "data.isnull().sum()"
   ]
  },
  {
   "cell_type": "code",
   "execution_count": null,
   "metadata": {},
   "outputs": [],
   "source": [
    "#Data Visualization"
   ]
  },
  {
   "cell_type": "code",
   "execution_count": null,
   "metadata": {},
   "outputs": [],
   "source": [
    "# Global variables for filtering\n",
    "# Example: Select multiple vehicles (or set to None for all vehicles)\n",
    "VEHICLE_BOOKED = \"SM192\"  # or None for all\n",
    "TRANSACTION_TYPE = \"CREDIT\""
   ]
  },
  {
   "cell_type": "code",
   "execution_count": null,
   "metadata": {},
   "outputs": [],
   "source": [
    "# Filter data for the specific vehicle \"sm191\"\n",
    "if VEHICLE_BOOKED is None:\n",
    "    vehicle_data = data[data['transaction_type'] == TRANSACTION_TYPE].copy()\n",
    "else:\n",
    "    vehicle_data = data[(data['vehicle_booked'] == VEHICLE_BOOKED) & \n",
    "                        (data['transaction_type'] == TRANSACTION_TYPE)].copy()"
   ]
  },
  {
   "cell_type": "code",
   "execution_count": null,
   "metadata": {},
   "outputs": [],
   "source": [
    "# Convert 'created_at' column to datetime if not already\n",
    "vehicle_data['created_at'] = pd.to_datetime(vehicle_data['created_at'])\n",
    "\n",
    "# Extract day, month, and week within the month\n",
    "vehicle_data['day'] = vehicle_data['created_at'].dt.date\n",
    "vehicle_data['month'] = vehicle_data['created_at'].dt.to_period('M').astype(str)\n",
    "vehicle_data['week'] = vehicle_data['created_at'].dt.isocalendar().week\n",
    "\n",
    "# Aggregate total fares by day and week\n",
    "daily_fares = vehicle_data.groupby('day')['amount'].sum().reset_index()\n",
    "weekly_fares = vehicle_data.groupby('week')['amount'].sum().reset_index()\n",
    "\n",
    "# Line graph for daily progression\n",
    "plt.figure(figsize=(12, 6))\n",
    "sns.lineplot(x='day', y='amount', data=daily_fares, marker='o', label=\"Daily Fare\")\n",
    "\n",
    "plt.title(f\"Daily Fare Progression for {VEHICLE_BOOKED}\")\n",
    "plt.xlabel(\"Day\")\n",
    "plt.ylabel(\"Total Fare\")\n",
    "plt.xticks(rotation=45)\n",
    "plt.grid(True)\n",
    "\n",
    "plt.tight_layout()  # Adjust layout so annotations fit\n",
    "\n",
    "plt.show()\n",
    "\n",
    "# Bar graph for weekly totals\n",
    "plt.figure(figsize=(12, 6))\n",
    "sns.barplot(x='week', y='amount', data=weekly_fares, palette=\"coolwarm\")\n",
    "\n",
    "plt.title(f\"Weekly Total Fare for {VEHICLE_BOOKED}\")\n",
    "plt.xlabel(\"Week\")\n",
    "plt.ylabel(\"Total Fare\")\n",
    "plt.xticks(rotation=45)\n",
    "plt.grid(axis='y')\n",
    "\n",
    "# Add annotations for each bar\n",
    "for i, amount in enumerate(weekly_fares['amount']):\n",
    "    plt.text(i, amount, f\"{amount}\", ha='center', va='bottom')\n",
    "\n",
    "plt.tight_layout()  # Adjust layout so annotations fit\n",
    "\n",
    "plt.show()\n"
   ]
  }
 ],
 "metadata": {
  "kernelspec": {
   "display_name": "venv",
   "language": "python",
   "name": "python3"
  },
  "language_info": {
   "codemirror_mode": {
    "name": "ipython",
    "version": 3
   },
   "file_extension": ".py",
   "mimetype": "text/x-python",
   "name": "python",
   "nbconvert_exporter": "python",
   "pygments_lexer": "ipython3",
   "version": "3.13.0"
  }
 },
 "nbformat": 4,
 "nbformat_minor": 2
}
