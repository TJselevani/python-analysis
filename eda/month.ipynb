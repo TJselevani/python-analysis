{
 "cells": [
  {
   "cell_type": "code",
   "execution_count": 2,
   "metadata": {},
   "outputs": [],
   "source": [
    "# packages and dependencies import\n",
    "import os\n",
    "import sys\n",
    "import json\n",
    "import pandas as pd # used for data manipulation\n",
    "import numpy as np # used for mathematical operations\n",
    "\n",
    "# Used for Exploratory Data Analysis\n",
    "import seaborn as sns \n",
    "\n",
    "# used for data visualization\n",
    "import matplotlib\n",
    "import matplotlib.pyplot as plt\n",
    "from matplotlib.ticker import FuncFormatter\n",
    "\n",
    "# Used for data transfer and visualization \n",
    "import plotly.graph_objects as go\n",
    "import plotly.io as pio"
   ]
  },
  {
   "cell_type": "code",
   "execution_count": 3,
   "metadata": {},
   "outputs": [],
   "source": [
    "# Data Import\n",
    "data = pd.read_csv(\"/home/tjselevani/Desktop/Apps/vscode/python/python analysis/data/last-3-months-transactions.csv\")\n",
    "\n",
    "# Convert 'created_at' column to datetime if not already\n",
    "data['created_at'] = pd.to_datetime(data['created_at'])\n",
    "\n",
    "# Extract the month from 'created_at'\n",
    "data.loc[:, 'month'] = data['created_at'].dt.to_period('M').astype(str)"
   ]
  },
  {
   "cell_type": "code",
   "execution_count": 4,
   "metadata": {},
   "outputs": [],
   "source": [
    "def format_months_xticks(month_labels):\n",
    "    \"\"\"Returns tick positions and labels for months.\"\"\"\n",
    "    return range(len(month_labels)), month_labels\n"
   ]
  },
  {
   "cell_type": "code",
   "execution_count": 5,
   "metadata": {},
   "outputs": [],
   "source": [
    "# data.head()"
   ]
  },
  {
   "cell_type": "code",
   "execution_count": 6,
   "metadata": {},
   "outputs": [],
   "source": [
    "# data.tail()"
   ]
  },
  {
   "cell_type": "code",
   "execution_count": 7,
   "metadata": {},
   "outputs": [],
   "source": [
    "# data.shape"
   ]
  },
  {
   "cell_type": "code",
   "execution_count": 8,
   "metadata": {},
   "outputs": [],
   "source": [
    "# data.columns"
   ]
  },
  {
   "cell_type": "code",
   "execution_count": 9,
   "metadata": {},
   "outputs": [],
   "source": [
    "# data.describe()"
   ]
  },
  {
   "cell_type": "code",
   "execution_count": 10,
   "metadata": {},
   "outputs": [],
   "source": [
    "# data.isnull().sum()"
   ]
  },
  {
   "cell_type": "code",
   "execution_count": 11,
   "metadata": {},
   "outputs": [],
   "source": [
    "#Data Visualization"
   ]
  },
  {
   "cell_type": "code",
   "execution_count": 12,
   "metadata": {},
   "outputs": [],
   "source": [
    "# Filter data for the specific vehicle\n",
    "def get_vehicle_data(vehicle_id):\n",
    "    \"\"\"Returns all, credit, and debit transaction data for a given vehicle.\"\"\"\n",
    "    vehicle_df = data[data['vehicle_booked'] == vehicle_id].copy()\n",
    "    vehicle_dt = data[data['transaction_type'] == 'CREDIT'].copy()\n",
    "    \n",
    "    return {\n",
    "        \"all\": vehicle_dt,\n",
    "        \"credit\": vehicle_df[vehicle_df['transaction_type'] == 'CREDIT'].copy(),\n",
    "        \"debit\": vehicle_df[vehicle_df['transaction_type'] == 'DEBIT'].copy(),\n",
    "    }\n",
    "\n",
    "# Define the vehicles\n",
    "vehicles = ['SM191', 'SM192', 'SM055', 'SM024', 'SM944']\n",
    "\n",
    "# Create a dictionary to store data for all vehicles\n",
    "vehicle_data_dict = {v: get_vehicle_data(v) for v in vehicles}\n",
    "\n",
    "# Select a specific vehicle dynamically\n",
    "selected_vehicle = 'SM024'  # Change this to switch vehicles\n",
    "\n",
    "vehicle_data = vehicle_data_dict[selected_vehicle]['credit']\n",
    "vehicle_revenue = vehicle_data_dict[selected_vehicle]['debit']\n",
    "data = vehicle_data_dict[selected_vehicle]['all']\n"
   ]
  },
  {
   "cell_type": "code",
   "execution_count": 13,
   "metadata": {},
   "outputs": [],
   "source": [
    "# Define unique colors for each vehicle, plus \"Unknown\" and \"Failed Transactions\"\n",
    "vehicle_colors = {\n",
    "    'SM191': 'blue',\n",
    "    'SM192': 'green',\n",
    "    'SM944': 'yellow',\n",
    "    'SM055': 'purple',\n",
    "    'SM024': 'orange',\n",
    "    'Unknown': 'gray',\n",
    "    'Failed': 'red'\n",
    "}\n",
    "\n",
    "# Map colors to vehicle_booked, filling NaN values with a default color (e.g., gray)\n",
    "data.loc[:,'color'] = data['vehicle_booked'].map(vehicle_colors).fillna('gray')\n",
    "\n",
    "# Define vehicles list (unique vehicles from the data)\n",
    "vehicles = data['vehicle_booked'].dropna().unique()"
   ]
  },
  {
   "cell_type": "code",
   "execution_count": 14,
   "metadata": {},
   "outputs": [],
   "source": [
    "# Aggregate data by month for each vehicle\n",
    "monthly_by_vehicle = data.groupby(['month', 'vehicle_booked'])['amount'].sum().reset_index()\n",
    "\n",
    "# Pivot the data to have vehicles as columns\n",
    "monthly_pivot = monthly_by_vehicle.pivot(index='month', columns='vehicle_booked', values='amount').reset_index()\n",
    "\n",
    "# Sort by month (assuming format is YYYY-MM)\n",
    "monthly_pivot = monthly_pivot.sort_values('month')"
   ]
  },
  {
   "cell_type": "code",
   "execution_count": 15,
   "metadata": {},
   "outputs": [
    {
     "name": "stdout",
     "output_type": "stream",
     "text": [
      "Saved Matplotlib plot for monthly_earnings_trend_bar: ../files/all/month/monthly_earnings_trend_bar.png\n"
     ]
    }
   ],
   "source": [
    "# VISUALIZATION 2: Bar chart for monthly earnings by vehicle\n",
    "# Reshape data for grouped bar chart\n",
    "monthly_melt = monthly_by_vehicle.copy()\n",
    "\n",
    "plt.figure(figsize=(14, 7))\n",
    "sns.barplot(x='month', y='amount', hue='vehicle_booked', data=monthly_melt, palette=vehicle_colors)\n",
    "\n",
    "plt.title(\"Monthly Earnings by Vehicle\", fontsize=16)\n",
    "plt.xlabel(\"Month\", fontsize=12)\n",
    "plt.ylabel(\"Total Earnings (KSH)\", fontsize=12)\n",
    "plt.grid(axis='y', linestyle='--', alpha=0.7)\n",
    "plt.legend(title=\"Vehicles\")\n",
    "plt.xticks(rotation=45)\n",
    "plt.tight_layout()\n",
    "\n",
    "output_file = \"monthly_earnings_trend_bar\"\n",
    "\n",
    "# Create directories for saving plots\n",
    "plot_dir = f\"../files/all/month\"\n",
    "os.makedirs(plot_dir, exist_ok=True)\n",
    "\n",
    "# Save as PNG\n",
    "plot_path = f\"{plot_dir}/{output_file}.png\"\n",
    "plt.savefig(plot_path, dpi=300, bbox_inches='tight')\n",
    "plt.close()\n",
    "\n",
    "print(f\"Saved Matplotlib plot for {output_file}: {plot_path}\")"
   ]
  },
  {
   "cell_type": "code",
   "execution_count": 16,
   "metadata": {},
   "outputs": [
    {
     "name": "stdout",
     "output_type": "stream",
     "text": [
      "Saved Matplotlib plot for monthly_earnings_trend_line: ../files/all/month/monthly_earnings_trend_line.png\n"
     ]
    }
   ],
   "source": [
    "# VISUALIZATION 1: Line chart for monthly earnings by vehicle\n",
    "plt.figure(figsize=(14, 7))\n",
    "for vehicle in vehicles:\n",
    "    if vehicle in monthly_pivot.columns:\n",
    "        plt.plot(monthly_pivot['month'], monthly_pivot[vehicle], marker='o', linewidth=2, label=vehicle)\n",
    "\n",
    "plt.title(\"Monthly Earnings by Vehicle\", fontsize=16)\n",
    "plt.xlabel(\"Month\", fontsize=12)\n",
    "plt.ylabel(\"Total Earnings (KSH)\", fontsize=12)\n",
    "plt.grid(True, linestyle='--', alpha=0.7)\n",
    "plt.legend(title=\"Vehicles\")\n",
    "plt.xticks(rotation=45)\n",
    "plt.tight_layout()\n",
    "\n",
    "output_file = \"monthly_earnings_trend_line\"\n",
    "\n",
    "# Create directories for saving plots\n",
    "plot_dir = f\"../files/all/month\"\n",
    "os.makedirs(plot_dir, exist_ok=True)\n",
    "\n",
    "# Save as PNG\n",
    "plot_path = f\"{plot_dir}/{output_file}.png\"\n",
    "plt.savefig(plot_path, dpi=300, bbox_inches='tight')\n",
    "plt.close()\n",
    "\n",
    "print(f\"Saved Matplotlib plot for {output_file}: {plot_path}\")"
   ]
  },
  {
   "cell_type": "code",
   "execution_count": 17,
   "metadata": {},
   "outputs": [],
   "source": [
    "# Monthly totals for all vehicles combined\n",
    "monthly_total = data.groupby('month')['amount'].sum().reset_index()\n",
    "monthly_total = monthly_total.sort_values('month')"
   ]
  },
  {
   "cell_type": "code",
   "execution_count": 18,
   "metadata": {},
   "outputs": [
    {
     "name": "stdout",
     "output_type": "stream",
     "text": [
      "Saved Matplotlib plot for monthly_total_earnings_bar: ../files/all/month/monthly_total_earnings_bar.png\n"
     ]
    }
   ],
   "source": [
    "# VISUALIZATION 4: Monthly trends for all vehicles\n",
    "plt.figure(figsize=(12, 6))\n",
    "ax = sns.barplot(x='month', y='amount', data=monthly_total, color='skyblue')\n",
    "\n",
    "plt.title(\"Monthly Total Earnings - All Vehicles\", fontsize=16)\n",
    "plt.xlabel(\"Month\", fontsize=12)\n",
    "plt.ylabel(\"Total Earnings (KSH)\", fontsize=12)\n",
    "plt.grid(axis='y', linestyle='--', alpha=0.7)\n",
    "plt.xticks(rotation=45)\n",
    "\n",
    "# Add value annotations\n",
    "for i, row in monthly_total.iterrows():\n",
    "    ax.text(i, row['amount'], f\"{int(row['amount']):,}\", ha='center', va='bottom', fontsize=9)\n",
    "\n",
    "plt.tight_layout()\n",
    "\n",
    "output_file = \"monthly_total_earnings_bar\"\n",
    "\n",
    "# Create directories for saving plots\n",
    "plot_dir = f\"../files/all/month\"\n",
    "os.makedirs(plot_dir, exist_ok=True)\n",
    "\n",
    "# Save as PNG\n",
    "plot_path = f\"{plot_dir}/{output_file}.png\"\n",
    "plt.savefig(plot_path, dpi=300, bbox_inches='tight')\n",
    "plt.close()\n",
    "\n",
    "print(f\"Saved Matplotlib plot for {output_file}: {plot_path}\")"
   ]
  },
  {
   "cell_type": "code",
   "execution_count": 19,
   "metadata": {},
   "outputs": [
    {
     "name": "stdout",
     "output_type": "stream",
     "text": [
      "Saved Matplotlib plot for monthly_total_earnings_line: ../files/all/month/monthly_total_earnings_line.png\n"
     ]
    }
   ],
   "source": [
    "# VISUALIZATION 4: Monthly trends for all vehicles\n",
    "plt.figure(figsize=(12, 6))\n",
    "ax = sns.lineplot(x='month', y='amount', data=monthly_total, markers='o', linewidth=2, color='skyblue')\n",
    "\n",
    "plt.title(\"Monthly Total Earnings - All Vehicles\", fontsize=16)\n",
    "plt.xlabel(\"Month\", fontsize=12)\n",
    "plt.ylabel(\"Total Earnings (KSH)\", fontsize=12)\n",
    "plt.grid(axis='y', linestyle='--', alpha=0.7)\n",
    "plt.xticks(rotation=45)\n",
    "\n",
    "# Add value annotations\n",
    "for i, row in monthly_total.iterrows():\n",
    "    ax.text(i, row['amount'], f\"{int(row['amount']):,}\", ha='center', va='bottom', fontsize=9)\n",
    "\n",
    "plt.tight_layout()\n",
    "\n",
    "output_file = \"monthly_total_earnings_line\"\n",
    "\n",
    "# Create directories for saving plots\n",
    "plot_dir = f\"../files/all/month\"\n",
    "os.makedirs(plot_dir, exist_ok=True)\n",
    "\n",
    "# Save as PNG\n",
    "plot_path = f\"{plot_dir}/{output_file}.png\"\n",
    "plt.savefig(plot_path, dpi=300, bbox_inches='tight')\n",
    "plt.close()\n",
    "\n",
    "print(f\"Saved Matplotlib plot for {output_file}: {plot_path}\")"
   ]
  },
  {
   "cell_type": "code",
   "execution_count": 20,
   "metadata": {},
   "outputs": [
    {
     "name": "stdout",
     "output_type": "stream",
     "text": [
      "Saved Matplotlib plot for monthly_stacked_earnings: ../files/all/month/monthly_stacked_earnings.png\n"
     ]
    },
    {
     "data": {
      "text/plain": [
       "<Figure size 1600x800 with 0 Axes>"
      ]
     },
     "metadata": {},
     "output_type": "display_data"
    }
   ],
   "source": [
    "# VISUALIZATION 6: Combined view showing monthly breakdown by vehicle and total\n",
    "plt.figure(figsize=(16, 8))\n",
    "\n",
    "# Create a stacked bar chart\n",
    "monthly_by_vehicle_pivot = monthly_by_vehicle.pivot_table(index='month', columns='vehicle_booked', values='amount')\n",
    "monthly_by_vehicle_pivot = monthly_by_vehicle_pivot.fillna(0)  # Replace NaN with 0\n",
    "monthly_by_vehicle_pivot = monthly_by_vehicle_pivot.sort_index()  # Sort by month\n",
    "\n",
    "monthly_by_vehicle_pivot.plot(kind='bar', stacked=True, figsize=(16, 8), colormap='viridis')\n",
    "\n",
    "plt.title(\"Monthly Earnings Breakdown by Vehicle\", fontsize=16)\n",
    "plt.xlabel(\"Month\", fontsize=12)\n",
    "plt.ylabel(\"Total Earnings (KSH)\", fontsize=12)\n",
    "plt.grid(axis='y', linestyle='--', alpha=0.4)\n",
    "plt.legend(title=\"Vehicles\", bbox_to_anchor=(1.05, 1), loc='upper left')\n",
    "\n",
    "# Add total value annotations\n",
    "monthly_totals = monthly_by_vehicle_pivot.sum(axis=1)\n",
    "for i, total in enumerate(monthly_totals):\n",
    "    plt.text(i, total + (total*0.01), f\"Total: {int(total):,}\", ha='center', va='bottom', fontsize=9, fontweight='bold')\n",
    "\n",
    "plt.tight_layout()\n",
    "\n",
    "output_file = \"monthly_stacked_earnings\"\n",
    "\n",
    "# Create directories for saving plots\n",
    "plot_dir = f\"../files/all/month\"\n",
    "os.makedirs(plot_dir, exist_ok=True)\n",
    "\n",
    "# Save as PNG\n",
    "plot_path = f\"{plot_dir}/{output_file}.png\"\n",
    "plt.savefig(plot_path, dpi=300, bbox_inches='tight')\n",
    "plt.close()\n",
    "\n",
    "print(f\"Saved Matplotlib plot for {output_file}: {plot_path}\")"
   ]
  }
 ],
 "metadata": {
  "kernelspec": {
   "display_name": "venv",
   "language": "python",
   "name": "python3"
  },
  "language_info": {
   "codemirror_mode": {
    "name": "ipython",
    "version": 3
   },
   "file_extension": ".py",
   "mimetype": "text/x-python",
   "name": "python",
   "nbconvert_exporter": "python",
   "pygments_lexer": "ipython3",
   "version": "3.13.0"
  }
 },
 "nbformat": 4,
 "nbformat_minor": 2
}
