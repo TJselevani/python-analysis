{
 "cells": [
  {
   "cell_type": "code",
   "execution_count": 18,
   "metadata": {},
   "outputs": [],
   "source": [
    "# packages and dependencies import\n",
    "import pandas as pd\n",
    "import seaborn as sns # Used for Exploratory Data Analysis\n",
    "import numpy as np\n",
    "import matplotlib\n",
    "from pandas import DataFrame\n",
    "\n",
    "# matplotlib.use('TkAgg')  # or 'QtAgg' if PyQt is installed {pip install PyQt6}\n",
    "import matplotlib.pyplot as plt"
   ]
  },
  {
   "cell_type": "code",
   "execution_count": 19,
   "metadata": {},
   "outputs": [],
   "source": [
    "# Data Import\n",
    "data = pd.read_csv(\"/home/tjselevani/Desktop/Apps/vscode/python/python analysis/data/last-3-months-transactions.csv\")\n",
    "\n",
    "# Convert 'created_at' column to datetime if not already\n",
    "data['created_at'] = pd.to_datetime(data['created_at'])\n",
    "\n",
    "# Extract time in minutes since start of the day\n",
    "data.loc[:, 'minutes'] = data['created_at'].dt.hour * 60 + data['created_at'].dt.minute\n",
    "\n",
    "# Extract time in hours since start of the day\n",
    "data.loc[:, 'hours'] = data['created_at'].dt.hour\n",
    "\n",
    "# Extract the day of the week (0 = Monday, 6 = Sunday)\n",
    "data.loc[:, 'day_of_week'] = data['created_at'].dt.dayofweek\n",
    "\n",
    "# Extract the week from 'created_at'\n",
    "data.loc[:, 'week'] = data['created_at'].dt.to_period('W').astype(str)\n",
    "\n",
    "# Extract the month from 'created_at'\n",
    "data.loc[:, 'month'] = data['created_at'].dt.to_period('M').astype(str)"
   ]
  },
  {
   "cell_type": "code",
   "execution_count": 20,
   "metadata": {},
   "outputs": [],
   "source": [
    "def format_minutes_xticks():\n",
    "    \"\"\"Returns tick positions and labels for minutes of the day.\"\"\"\n",
    "    return range(0, 1441, 60), [f\"{h}:00\" for h in range(0, 25)]\n",
    "\n",
    "def format_hours_xticks():\n",
    "    \"\"\"Returns tick positions and labels for hours of the day.\"\"\"\n",
    "    return range(0, 25, 1), [f\"{h}:00\" for h in range(0, 25)]\n",
    "\n",
    "def format_days_xticks():\n",
    "    \"\"\"Returns tick positions and labels for days of the week.\"\"\"\n",
    "    days = [\"Mon\", \"Tue\", \"Wed\", \"Thu\", \"Fri\", \"Sat\", \"Sun\"]\n",
    "    return range(len(days)), days\n",
    "\n",
    "def format_weeks_xticks(week_labels):\n",
    "    \"\"\"Returns tick positions and labels for weeks.\"\"\"\n",
    "    return range(len(week_labels)), week_labels\n",
    "\n",
    "def format_months_xticks(month_labels):\n",
    "    \"\"\"Returns tick positions and labels for months.\"\"\"\n",
    "    return range(len(month_labels)), month_labels\n",
    "\n",
    "def format_years_xticks(year_labels):\n",
    "    \"\"\"Returns tick positions and labels for years.\"\"\"\n",
    "    return range(len(year_labels)), year_labels"
   ]
  },
  {
   "cell_type": "code",
   "execution_count": 21,
   "metadata": {},
   "outputs": [],
   "source": [
    "# data.head()"
   ]
  },
  {
   "cell_type": "code",
   "execution_count": 22,
   "metadata": {},
   "outputs": [],
   "source": [
    "# data.tail()"
   ]
  },
  {
   "cell_type": "code",
   "execution_count": 23,
   "metadata": {},
   "outputs": [],
   "source": [
    "# data.shape"
   ]
  },
  {
   "cell_type": "code",
   "execution_count": 24,
   "metadata": {},
   "outputs": [],
   "source": [
    "# data.columns"
   ]
  },
  {
   "cell_type": "code",
   "execution_count": 25,
   "metadata": {},
   "outputs": [],
   "source": [
    "# data.describe()"
   ]
  },
  {
   "cell_type": "code",
   "execution_count": 26,
   "metadata": {},
   "outputs": [],
   "source": [
    "# data.isnull().sum()"
   ]
  },
  {
   "cell_type": "code",
   "execution_count": 27,
   "metadata": {},
   "outputs": [],
   "source": [
    "#Data Visualization"
   ]
  },
  {
   "cell_type": "code",
   "execution_count": 28,
   "metadata": {},
   "outputs": [],
   "source": [
    "# Filter data for the specific vehicle\n",
    "def get_vehicle_data(vehicle_id):\n",
    "    \"\"\"Returns all, credit, and debit transaction data for a given vehicle.\"\"\"\n",
    "    vehicle_df = data[data['vehicle_booked'] == vehicle_id].copy()\n",
    "    vehicle_dt = data[data['transaction_type'] == 'CREDIT'].copy()\n",
    "    \n",
    "    return {\n",
    "        \"all\": vehicle_dt,\n",
    "        \"credit\": vehicle_df[vehicle_df['transaction_type'] == 'CREDIT'].copy(),\n",
    "        \"debit\": vehicle_df[vehicle_df['transaction_type'] == 'DEBIT'].copy(),\n",
    "    }\n",
    "\n",
    "# Define the vehicles\n",
    "vehicles = ['SM191', 'SM192', 'SM055', 'SM024', 'SM944']\n",
    "\n",
    "# Create a dictionary to store data for all vehicles\n",
    "vehicle_data_dict = {v: get_vehicle_data(v) for v in vehicles}\n",
    "\n",
    "# Select a specific vehicle dynamically\n",
    "selected_vehicle = 'SM024'  # Change this to switch vehicles\n",
    "\n",
    "vehicle_data = vehicle_data_dict[selected_vehicle]['credit']\n",
    "vehicle_revenue = vehicle_data_dict[selected_vehicle]['debit']\n",
    "data = vehicle_data_dict[selected_vehicle]['all']\n"
   ]
  },
  {
   "cell_type": "code",
   "execution_count": 29,
   "metadata": {},
   "outputs": [],
   "source": [
    "# Define unique colors for each vehicle, plus \"Unknown\" and \"Failed Transactions\"\n",
    "vehicle_colors = {\n",
    "    'SM191': 'blue',\n",
    "    'SM192': 'green',\n",
    "    'SM944': 'yellow',\n",
    "    'SM055': 'purple',\n",
    "    'SM024': 'orange',\n",
    "    'Unknown': 'gray',\n",
    "    'Failed': 'red'\n",
    "}"
   ]
  },
  {
   "cell_type": "code",
   "execution_count": 30,
   "metadata": {},
   "outputs": [],
   "source": [
    "# Yearly totals (extract year from month)\n",
    "data['year'] = pd.to_datetime(data['created_at']).dt.year\n",
    "yearly_total = data.groupby('year')['amount'].sum().reset_index()\n"
   ]
  },
  {
   "cell_type": "code",
   "execution_count": null,
   "metadata": {},
   "outputs": [
    {
     "name": "stderr",
     "output_type": "stream",
     "text": [
      "/tmp/ipykernel_168587/897983752.py:3: FutureWarning: \n",
      "\n",
      "Passing `palette` without assigning `hue` is deprecated and will be removed in v0.14.0. Assign the `x` variable to `hue` and set `legend=False` for the same effect.\n",
      "\n",
      "  ax = sns.barplot(x='year', y='amount', data=yearly_total, palette='Blues_d')\n"
     ]
    },
    {
     "data": {
      "image/png": "[encoded data removed]",
      "text/plain": [
       "<Figure size 1000x600 with 1 Axes>"
      ]
     },
     "metadata": {},
     "output_type": "display_data"
    }
   ],
   "source": [
    "# VISUALIZATION 5: Yearly comparison for all vehicles\n",
    "plt.figure(figsize=(10, 6))\n",
    "ax = sns.barplot(x='year', y='amount', data=yearly_total, palette='Blues_d')\n",
    "\n",
    "plt.title(\"Yearly Total Earnings - All Vehicles\", fontsize=16)\n",
    "plt.xlabel(\"Year\", fontsize=12)\n",
    "plt.ylabel(\"Total Earnings (KSH)\", fontsize=12)\n",
    "plt.grid(axis='y', linestyle='--', alpha=0.7)\n",
    "\n",
    "# Add value annotations\n",
    "for i, row in yearly_total.iterrows():\n",
    "    ax.text(i, row['amount'], f\"{int(row['amount']):,}\", ha='center', va='bottom', fontsize=10)\n",
    "\n",
    "plt.tight_layout()\n",
    "# plt.savefig(\"yearly_total_earnings.png\", dpi=300)\n",
    "plt.show()"
   ]
  }
 ],
 "metadata": {
  "kernelspec": {
   "display_name": "venv",
   "language": "python",
   "name": "python3"
  },
  "language_info": {
   "codemirror_mode": {
    "name": "ipython",
    "version": 3
   },
   "file_extension": ".py",
   "mimetype": "text/x-python",
   "name": "python",
   "nbconvert_exporter": "python",
   "pygments_lexer": "ipython3",
   "version": "3.13.0"
  }
 },
 "nbformat": 4,
 "nbformat_minor": 2
}
