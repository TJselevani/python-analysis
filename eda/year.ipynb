{
 "cells": [
  {
   "cell_type": "code",
   "execution_count": 2,
   "metadata": {},
   "outputs": [],
   "source": [
    "# packages and dependencies import\n",
    "import os\n",
    "import sys\n",
    "import json\n",
    "import pandas as pd\n",
    "import seaborn as sns # Used for Exploratory Data Analysis\n",
    "import numpy as np\n",
    "import matplotlib\n",
    "from pandas import DataFrame\n",
    "\n",
    "# matplotlib.use('TkAgg')  # or 'QtAgg' if PyQt is installed {pip install PyQt6}\n",
    "import matplotlib.pyplot as plt"
   ]
  },
  {
   "cell_type": "code",
   "execution_count": 3,
   "metadata": {},
   "outputs": [],
   "source": [
    "# Data Import\n",
    "data = pd.read_csv(\"/home/tjselevani/Desktop/Apps/vscode/python/python analysis/data/last-3-months-transactions.csv\")\n",
    "\n",
    "# Convert 'created_at' column to datetime if not already\n",
    "data['created_at'] = pd.to_datetime(data['created_at'])\n",
    "\n",
    "# Extract the year from 'created_at'\n",
    "data.loc[:, 'year'] = data['created_at'].dt.year"
   ]
  },
  {
   "cell_type": "code",
   "execution_count": 4,
   "metadata": {},
   "outputs": [],
   "source": [
    "def format_years_xticks(year_labels):\n",
    "    \"\"\"Returns tick positions and labels for years.\"\"\"\n",
    "    return range(len(year_labels)), year_labels"
   ]
  },
  {
   "cell_type": "code",
   "execution_count": 5,
   "metadata": {},
   "outputs": [],
   "source": [
    "# data.head()"
   ]
  },
  {
   "cell_type": "code",
   "execution_count": 6,
   "metadata": {},
   "outputs": [],
   "source": [
    "# data.tail()"
   ]
  },
  {
   "cell_type": "code",
   "execution_count": 7,
   "metadata": {},
   "outputs": [],
   "source": [
    "# data.shape"
   ]
  },
  {
   "cell_type": "code",
   "execution_count": 8,
   "metadata": {},
   "outputs": [],
   "source": [
    "# data.columns"
   ]
  },
  {
   "cell_type": "code",
   "execution_count": 9,
   "metadata": {},
   "outputs": [],
   "source": [
    "# data.describe()"
   ]
  },
  {
   "cell_type": "code",
   "execution_count": 10,
   "metadata": {},
   "outputs": [],
   "source": [
    "# data.isnull().sum()"
   ]
  },
  {
   "cell_type": "code",
   "execution_count": 11,
   "metadata": {},
   "outputs": [],
   "source": [
    "#Data Visualization"
   ]
  },
  {
   "cell_type": "code",
   "execution_count": 12,
   "metadata": {},
   "outputs": [],
   "source": [
    "# Filter data for the specific vehicle\n",
    "def get_vehicle_data(vehicle_id):\n",
    "    \"\"\"Returns all, credit, and debit transaction data for a given vehicle.\"\"\"\n",
    "    vehicle_df = data[data['vehicle_booked'] == vehicle_id].copy()\n",
    "    vehicle_dt = data[data['transaction_type'] == 'CREDIT'].copy()\n",
    "    \n",
    "    return {\n",
    "        \"all\": vehicle_dt,\n",
    "        \"credit\": vehicle_df[vehicle_df['transaction_type'] == 'CREDIT'].copy(),\n",
    "        \"debit\": vehicle_df[vehicle_df['transaction_type'] == 'DEBIT'].copy(),\n",
    "    }\n",
    "\n",
    "# Define the vehicles\n",
    "vehicles = ['SM191', 'SM192', 'SM055', 'SM024', 'SM944']\n",
    "\n",
    "# Create a dictionary to store data for all vehicles\n",
    "vehicle_data_dict = {v: get_vehicle_data(v) for v in vehicles}\n",
    "\n",
    "# Select a specific vehicle dynamically\n",
    "selected_vehicle = 'SM024'  # Change this to switch vehicles\n",
    "\n",
    "vehicle_data = vehicle_data_dict[selected_vehicle]['credit']\n",
    "vehicle_revenue = vehicle_data_dict[selected_vehicle]['debit']\n",
    "data = vehicle_data_dict[selected_vehicle]['all']\n"
   ]
  },
  {
   "cell_type": "code",
   "execution_count": 13,
   "metadata": {},
   "outputs": [],
   "source": [
    "# Define unique colors for each vehicle, plus \"Unknown\" and \"Failed Transactions\"\n",
    "vehicle_colors = {\n",
    "    'SM191': 'blue',\n",
    "    'SM192': 'green',\n",
    "    'SM944': 'yellow',\n",
    "    'SM055': 'purple',\n",
    "    'SM024': 'orange',\n",
    "    'Unknown': 'gray',\n",
    "    'Failed': 'red'\n",
    "}\n",
    "\n",
    "# Map colors to vehicle_booked, filling NaN values with a default color (e.g., gray)\n",
    "data.loc[:,'color'] = data['vehicle_booked'].map(vehicle_colors).fillna('gray')\n",
    "\n",
    "# Define vehicles list (unique vehicles from the data)\n",
    "vehicles = data['vehicle_booked'].dropna().unique()"
   ]
  },
  {
   "cell_type": "code",
   "execution_count": 14,
   "metadata": {},
   "outputs": [],
   "source": [
    "# Aggregate data by month for each vehicle\n",
    "yearly_by_vehicle = data.groupby(['year', 'vehicle_booked'])['amount'].sum().reset_index()\n",
    "\n",
    "# Pivot the data to have vehicles as columns\n",
    "yearly_pivot = yearly_by_vehicle.pivot(index='year', columns='vehicle_booked', values='amount').reset_index()\n",
    "\n",
    "# Sort by month (assuming format is YYYY-MM)\n",
    "yearly_pivot = yearly_pivot.sort_values('year')"
   ]
  },
  {
   "cell_type": "code",
   "execution_count": 15,
   "metadata": {},
   "outputs": [],
   "source": [
    "# Yearly totals (extract year from month)\n",
    "# data['year'] = pd.to_datetime(data['created_at']).dt.year\n",
    "yearly_total = data.groupby('year')['amount'].sum().reset_index()\n"
   ]
  },
  {
   "cell_type": "code",
   "execution_count": 16,
   "metadata": {},
   "outputs": [
    {
     "name": "stderr",
     "output_type": "stream",
     "text": [
      "/tmp/ipykernel_338605/404055373.py:3: FutureWarning: \n",
      "\n",
      "Passing `palette` without assigning `hue` is deprecated and will be removed in v0.14.0. Assign the `x` variable to `hue` and set `legend=False` for the same effect.\n",
      "\n",
      "  ax = sns.barplot(x='year', y='amount', data=yearly_total, palette='Blues_d')\n"
     ]
    },
    {
     "name": "stdout",
     "output_type": "stream",
     "text": [
      "Saved Matplotlib plot for yearly_stacked_earnings_bar: ../files/all/year/yearly_stacked_earnings_bar.png\n"
     ]
    }
   ],
   "source": [
    "# VISUALIZATION 5: Yearly comparison for all vehicles\n",
    "plt.figure(figsize=(10, 6))\n",
    "ax = sns.barplot(x='year', y='amount', data=yearly_total, palette='Blues_d')\n",
    "\n",
    "plt.title(\"Yearly Total Earnings - All Vehicles\", fontsize=16)\n",
    "plt.xlabel(\"Year\", fontsize=12)\n",
    "plt.ylabel(\"Total Earnings (KSH)\", fontsize=12)\n",
    "plt.grid(axis='y', linestyle='--', alpha=0.7)\n",
    "\n",
    "# Add value annotations\n",
    "for i, row in yearly_total.iterrows():\n",
    "    ax.text(i, row['amount'], f\"{int(row['amount']):,}\", ha='center', va='bottom', fontsize=10)\n",
    "\n",
    "plt.tight_layout()\n",
    "\n",
    "output_file = \"yearly_stacked_earnings_bar\"\n",
    "\n",
    "# Create directories for saving plots\n",
    "plot_dir = f\"../files/all/year\"\n",
    "os.makedirs(plot_dir, exist_ok=True)\n",
    "\n",
    "# Save as PNG\n",
    "plot_path = f\"{plot_dir}/{output_file}.png\"\n",
    "plt.savefig(plot_path, dpi=300, bbox_inches='tight')\n",
    "plt.close()\n",
    "\n",
    "print(f\"Saved Matplotlib plot for {output_file}: {plot_path}\")"
   ]
  },
  {
   "cell_type": "code",
   "execution_count": 17,
   "metadata": {},
   "outputs": [
    {
     "name": "stdout",
     "output_type": "stream",
     "text": [
      "Saved Matplotlib plot for yearly_stacked_earnings_stacked: ../files/all/year/yearly_stacked_earnings_stacked.png\n"
     ]
    },
    {
     "data": {
      "text/plain": [
       "<Figure size 1600x800 with 0 Axes>"
      ]
     },
     "metadata": {},
     "output_type": "display_data"
    }
   ],
   "source": [
    "# VISUALIZATION 6: Combined view showing yearly breakdown by vehicle and total\n",
    "plt.figure(figsize=(16, 8))\n",
    "\n",
    "# Create a stacked bar chart\n",
    "yearly_by_vehicle_pivot = yearly_by_vehicle.pivot_table(index='year', columns='vehicle_booked', values='amount')\n",
    "yearly_by_vehicle_pivot = yearly_by_vehicle_pivot.fillna(0)  # Replace NaN with 0\n",
    "yearly_by_vehicle_pivot = yearly_by_vehicle_pivot.sort_index()  # Sort by month\n",
    "\n",
    "yearly_by_vehicle_pivot.plot(kind='bar', stacked=True, figsize=(16, 8), colormap='viridis')\n",
    "\n",
    "plt.title(\"Yearly Earnings Breakdown by Vehicle\", fontsize=16)\n",
    "plt.xlabel(\"Month\", fontsize=12)\n",
    "plt.ylabel(\"Total Earnings (KSH)\", fontsize=12)\n",
    "plt.grid(axis='y', linestyle='--', alpha=0.4)\n",
    "plt.legend(title=\"Vehicles\", bbox_to_anchor=(1.05, 1), loc='upper left')\n",
    "\n",
    "# Add total value annotations\n",
    "yearly_totals = yearly_by_vehicle_pivot.sum(axis=1)\n",
    "for i, total in enumerate(yearly_totals):\n",
    "    plt.text(i, total + (total*0.01), f\"Total: {int(total):,}\", ha='center', va='bottom', fontsize=9, fontweight='bold')\n",
    "\n",
    "plt.tight_layout()\n",
    "\n",
    "output_file = \"yearly_stacked_earnings_stacked\"\n",
    "\n",
    "# Create directories for saving plots\n",
    "plot_dir = f\"../files/all/year\"\n",
    "os.makedirs(plot_dir, exist_ok=True)\n",
    "\n",
    "# Save as PNG\n",
    "plot_path = f\"{plot_dir}/{output_file}.png\"\n",
    "plt.savefig(plot_path, dpi=300, bbox_inches='tight')\n",
    "plt.close()\n",
    "\n",
    "print(f\"Saved Matplotlib plot for {output_file}: {plot_path}\")"
   ]
  }
 ],
 "metadata": {
  "kernelspec": {
   "display_name": "venv",
   "language": "python",
   "name": "python3"
  },
  "language_info": {
   "codemirror_mode": {
    "name": "ipython",
    "version": 3
   },
   "file_extension": ".py",
   "mimetype": "text/x-python",
   "name": "python",
   "nbconvert_exporter": "python",
   "pygments_lexer": "ipython3",
   "version": "3.13.0"
  }
 },
 "nbformat": 4,
 "nbformat_minor": 2
}
