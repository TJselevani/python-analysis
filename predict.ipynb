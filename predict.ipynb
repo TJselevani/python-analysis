{
 "cells": [
  {
   "cell_type": "code",
   "execution_count": null,
   "id": "75dfdf3f-561a-4480-a2e8-9232e9764175",
   "metadata": {},
   "outputs": [],
   "source": [
    "import pandas as pd\n",
    "from utility.data_preparation.prepare_time_series import prepare_time_series_data\n",
    "from utility.ensemble.ensemble_forecast import ensemble_forecast\n",
    "from utility.ensemble.plot_ensemble_forecast import plot_ensemble_forecast\n",
    "from utility.prediction.ensemble_prediction import run_prediction_for_vehicle\n",
    "\n",
    "from config import DATA_CSV_FILE"
   ]
  },
  {
   "cell_type": "code",
   "execution_count": null,
   "id": "afe7d26e",
   "metadata": {},
   "outputs": [],
   "source": [
    "# Path to your data\n",
    "data_path = DATA_CSV_FILE\n",
    "\n",
    "# Vehicle to analyze\n",
    "vehicle_id = \"SM191\"\n",
    "\n",
    "# Run prediction for the vehicle\n",
    "forecasts = run_prediction_for_vehicle(data_path, vehicle_id, forecast_days=30)\n",
    "\n",
    "# Create ensemble forecast\n",
    "ensemble_df = ensemble_forecast(forecasts)\n",
    "\n",
    "# Plot ensemble forecast\n",
    "ts_data = prepare_time_series_data(pd.read_csv(data_path), vehicle_id)\n",
    "plot_ensemble_forecast(ts_data, ensemble_df, vehicle_id)\n",
    "\n",
    "# Display the forecast for the next 7 days\n",
    "print(\"Ensemble Forecast for the next 7 days:\")\n",
    "print(ensemble_df[[\"date\", \"ensemble_forecast\"]].head(7))\n",
    "\n",
    "# Calculate aggregate statistics\n",
    "total_predicted = ensemble_df[\"ensemble_forecast\"].head(7).sum()\n",
    "average_daily = ensemble_df[\"ensemble_forecast\"].head(7).mean()\n",
    "print(f\"Total predicted earnings for next 7 days: {total_predicted:.2f} KSH\")\n",
    "print(f\"Average daily earnings: {average_daily:.2f} KSH\")\n"
   ]
  }
 ],
 "metadata": {
  "kernelspec": {
   "display_name": "venv",
   "language": "python",
   "name": "python3"
  },
  "language_info": {
   "codemirror_mode": {
    "name": "ipython",
    "version": 3
   },
   "file_extension": ".py",
   "mimetype": "text/x-python",
   "name": "python",
   "nbconvert_exporter": "python",
   "pygments_lexer": "ipython3",
   "version": "3.13.0"
  }
 },
 "nbformat": 4,
 "nbformat_minor": 5
}
