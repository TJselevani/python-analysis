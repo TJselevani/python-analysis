{
 "cells": [
  {
   "cell_type": "code",
   "execution_count": 25,
   "metadata": {},
   "outputs": [],
   "source": [
    "# packages and dependencies import\n",
    "import os\n",
    "import sys\n",
    "import json\n",
    "import pandas as pd # used for data manipulation\n",
    "import numpy as np # used for mathematical operations\n",
    "\n",
    "# Used for Exploratory Data Analysis\n",
    "import seaborn as sns \n",
    "\n",
    "# used for data visualization\n",
    "import matplotlib\n",
    "import matplotlib.pyplot as plt\n",
    "from matplotlib.ticker import FuncFormatter\n",
    "\n",
    "# Used for data transfer and visualization \n",
    "import plotly.graph_objects as go\n",
    "import plotly.io as pio\n",
    "from plotly.utils import PlotlyJSONEncoder "
   ]
  },
  {
   "cell_type": "code",
   "execution_count": 18,
   "metadata": {},
   "outputs": [],
   "source": [
    "# Data Import\n",
    "data = pd.read_csv(\"/home/tjselevani/Desktop/Apps/vscode/python/python analysis/data/last-3-months-transactions.csv\")\n",
    "\n",
    "# Convert 'created_at' column to datetime if not already\n",
    "data['created_at'] = pd.to_datetime(data['created_at'])\n",
    "\n",
    "# Extract the month from 'created_at'\n",
    "data.loc[:, 'month'] = data['created_at'].dt.to_period('M').astype(str)"
   ]
  },
  {
   "cell_type": "code",
   "execution_count": 19,
   "metadata": {},
   "outputs": [],
   "source": [
    "def format_months_xticks(month_labels):\n",
    "    \"\"\"Returns tick positions and labels for months.\"\"\"\n",
    "    return range(len(month_labels)), month_labels"
   ]
  },
  {
   "cell_type": "code",
   "execution_count": 20,
   "metadata": {},
   "outputs": [],
   "source": [
    "data = data[data['transaction_type'] == 'CREDIT'].copy()"
   ]
  },
  {
   "cell_type": "code",
   "execution_count": 21,
   "metadata": {},
   "outputs": [],
   "source": [
    "# Define unique colors for each vehicle, plus \"Unknown\" and \"Failed Transactions\"\n",
    "vehicle_colors = {\n",
    "    'SM191': 'blue',\n",
    "    'SM192': 'green',\n",
    "    'SM944': 'yellow',\n",
    "    'SM055': 'purple',\n",
    "    'SM024': 'orange',\n",
    "    'Unknown': 'gray',\n",
    "    'Failed': 'red'\n",
    "}\n",
    "\n",
    "# Map colors to vehicle_booked, filling NaN values with a default color (e.g., gray)\n",
    "data.loc[:,'color'] = data['vehicle_booked'].map(vehicle_colors).fillna('gray')\n",
    "\n",
    "# Define vehicles list (unique vehicles from the data)\n",
    "vehicles = data['vehicle_booked'].dropna().unique()"
   ]
  },
  {
   "cell_type": "code",
   "execution_count": 22,
   "metadata": {},
   "outputs": [],
   "source": [
    "# Aggregate data by month for each vehicle\n",
    "monthly_by_vehicle = data.groupby(['month', 'vehicle_booked'])['amount'].sum().reset_index()\n",
    "\n",
    "# Pivot the data to have vehicles as columns\n",
    "monthly_pivot = monthly_by_vehicle.pivot(index='month', columns='vehicle_booked', values='amount').reset_index()\n",
    "\n",
    "# Sort by month (assuming format is YYYY-MM)\n",
    "monthly_pivot = monthly_pivot.sort_values('month')"
   ]
  },
  {
   "cell_type": "code",
   "execution_count": 26,
   "metadata": {},
   "outputs": [
    {
     "name": "stdout",
     "output_type": "stream",
     "text": [
      "Saved JSON Plotly data: ../json/all/month/monthly_earnings_trend_bar.json\n",
      "Error: File not found at /home/tjselevani/Desktop/Apps/vscode/python/python analysis/json/monthly_earnings_trend_bar.json\n"
     ]
    }
   ],
   "source": [
    "def generate_monthly_earnings_chart_and_json(data, output_file):\n",
    "    \"\"\"\n",
    "    This method generates a bar chart of monthly earnings by vehicle, preserving vehicle colors,\n",
    "    saves the chart as an image using matplotlib, and saves the chart data as JSON using plotly.\n",
    "    \n",
    "    Parameters:\n",
    "    data (pd.DataFrame): The input dataframe containing transaction data.\n",
    "    output_image_path (str): The path to save the generated chart image.\n",
    "    output_json_path (str): The path to save the chart data in JSON format.\n",
    "    \n",
    "    Returns:\n",
    "    None\n",
    "    \"\"\"\n",
    "\n",
    "    # Aggregate data by month for each vehicle\n",
    "    monthly_by_vehicle = data.groupby(['month', 'vehicle_booked'])['amount'].sum().reset_index()\n",
    "\n",
    "    # Reshape the data for a grouped bar chart\n",
    "    monthly_melt = monthly_by_vehicle.copy()\n",
    "    \n",
    "    # Plotly graph data in a JSON format\n",
    "    plot_data = []\n",
    "    \n",
    "    for vehicle in vehicle_colors.keys():\n",
    "        vehicle_data = monthly_by_vehicle[monthly_by_vehicle['vehicle_booked'] == vehicle]\n",
    "        plot_data.append(go.Bar(\n",
    "            x=vehicle_data['month'],\n",
    "            y=vehicle_data['amount'],\n",
    "            name=vehicle,\n",
    "            marker=dict(color=vehicle_colors.get(vehicle, 'gray'))\n",
    "        ))\n",
    "\n",
    "    # Create the plotly figure\n",
    "    fig = go.Figure(data=plot_data)\n",
    "\n",
    "    # Update layout for plotly figure\n",
    "    fig.update_layout(\n",
    "        title=\"Monthly Earnings by Vehicle\",\n",
    "        xaxis_title=\"Month\",\n",
    "        yaxis_title=\"Total Earnings (KSH)\",\n",
    "        barmode='stack',\n",
    "        xaxis=dict(tickangle=45),\n",
    "        legend_title=\"Vehicles\"\n",
    "    )\n",
    "\n",
    "    # Create output directories\n",
    "    json_dir = f\"../json/all/month\"\n",
    "    os.makedirs(json_dir, exist_ok=True)\n",
    "\n",
    "    json_path = f\"{json_dir}/{output_file}.json\"\n",
    "    with open(json_path, 'w') as json_file:\n",
    "        json.dump(plot_data, json_file, indent=4, cls=PlotlyJSONEncoder)\n",
    "\n",
    "    print(f\"Saved JSON Plotly data: {json_path}\")\n",
    "\n",
    "# Example usage:\n",
    "data_file_path = \"/home/tjselevani/Desktop/Apps/vscode/python/python analysis/data/last-3-months-transactions.csv\"\n",
    "output_image_path = \"/home/tjselevani/Desktop/Apps/vscode/python/python analysis/files/monthly_earnings_trend_bar.png\"\n",
    "output_json_path = \"/home/tjselevani/Desktop/Apps/vscode/python/python analysis/json/monthly_earnings_trend_bar.json\"\n",
    "\n",
    "# Generate the monthly earnings bar chart and save the image and JSON data\n",
    "generate_monthly_earnings_chart_and_json(data, \"monthly_earnings_trend_bar\")\n",
    "display_plotly_graph(output_json_path)"
   ]
  }
 ],
 "metadata": {
  "kernelspec": {
   "display_name": "venv",
   "language": "python",
   "name": "python3"
  },
  "language_info": {
   "codemirror_mode": {
    "name": "ipython",
    "version": 3
   },
   "file_extension": ".py",
   "mimetype": "text/x-python",
   "name": "python",
   "nbconvert_exporter": "python",
   "pygments_lexer": "ipython3",
   "version": "3.13.0"
  }
 },
 "nbformat": 4,
 "nbformat_minor": 2
}
