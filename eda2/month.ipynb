{
 "cells": [
  {
   "cell_type": "code",
   "execution_count": null,
   "metadata": {},
   "outputs": [],
   "source": [
    "# packages and dependencies import\n",
    "import os\n",
    "import sys\n",
    "import json\n",
    "import pandas as pd # used for data manipulation\n",
    "import numpy as np # used for mathematical operations\n",
    "\n",
    "# Used for Exploratory Data Analysis\n",
    "import seaborn as sns \n",
    "\n",
    "# used for data visualization\n",
    "import matplotlib\n",
    "import matplotlib.pyplot as plt\n",
    "from matplotlib.ticker import FuncFormatter\n",
    "\n",
    "# Used for data transfer and visualization \n",
    "import plotly.graph_objects as go\n",
    "import plotly.io as pio\n",
    "from plotly.utils import PlotlyJSONEncoder "
   ]
  },
  {
   "cell_type": "code",
   "execution_count": null,
   "metadata": {},
   "outputs": [],
   "source": [
    "# Data Import\n",
    "data = pd.read_csv(\"/home/tjselevani/Desktop/Apps/vscode/python/python analysis/data/last-3-months-transactions.csv\")\n",
    "\n",
    "# Convert 'created_at' column to datetime if not already\n",
    "data['created_at'] = pd.to_datetime(data['created_at'])\n",
    "\n",
    "# Extract the month from 'created_at'\n",
    "data.loc[:, 'month'] = data['created_at'].dt.to_period('M').astype(str)"
   ]
  },
  {
   "cell_type": "code",
   "execution_count": null,
   "metadata": {},
   "outputs": [],
   "source": [
    "def format_months_xticks(month_labels):\n",
    "    \"\"\"Returns tick positions and labels for months.\"\"\"\n",
    "    return range(len(month_labels)), month_labels"
   ]
  },
  {
   "cell_type": "code",
   "execution_count": null,
   "metadata": {},
   "outputs": [],
   "source": [
    "data = data[data['transaction_type'] == 'CREDIT'].copy()"
   ]
  },
  {
   "cell_type": "code",
   "execution_count": null,
   "metadata": {},
   "outputs": [],
   "source": [
    "# Define unique colors for each vehicle, plus \"Unknown\" and \"Failed Transactions\"\n",
    "vehicle_colors = {\n",
    "    'SM191': 'blue',\n",
    "    'SM192': 'green',\n",
    "    'SM944': 'yellow',\n",
    "    'SM055': 'purple',\n",
    "    'SM024': 'orange',\n",
    "    'Unknown': 'gray',\n",
    "    'Failed': 'red'\n",
    "}\n",
    "\n",
    "# Map colors to vehicle_booked, filling NaN values with a default color (e.g., gray)\n",
    "data.loc[:,'color'] = data['vehicle_booked'].map(vehicle_colors).fillna('gray')\n",
    "\n",
    "# Define vehicles list (unique vehicles from the data)\n",
    "vehicles = data['vehicle_booked'].dropna().unique()"
   ]
  },
  {
   "cell_type": "code",
   "execution_count": null,
   "metadata": {},
   "outputs": [],
   "source": [
    "# Aggregate data by month for each vehicle\n",
    "monthly_by_vehicle = data.groupby(['month', 'vehicle_booked'])['amount'].sum().reset_index()\n",
    "\n",
    "# Pivot the data to have vehicles as columns\n",
    "monthly_pivot = monthly_by_vehicle.pivot(index='month', columns='vehicle_booked', values='amount').reset_index()\n",
    "\n",
    "# Sort by month (assuming format is YYYY-MM)\n",
    "monthly_pivot = monthly_pivot.sort_values('month')"
   ]
  },
  {
   "cell_type": "code",
   "execution_count": null,
   "metadata": {},
   "outputs": [],
   "source": [
    "# Month-by-Month Plotting Function\n",
    "def plot_monthly_fares_line(output_file):\n",
    "    \"\"\"\n",
    "    Generate and save a month-by-month fare trend line plot for each vehicle.\n",
    "    \"\"\"\n",
    "    # Aggregate total fare by month for each vehicle\n",
    "    pivot_data = monthly_pivot.fillna(0)\n",
    "    \n",
    "    plot_data = go.Figure()\n",
    "\n",
    "    for vehicle in vehicles:\n",
    "        if vehicle in pivot_data.columns:\n",
    "            plot_data.add_trace(go.Scatter(\n",
    "                x=pivot_data['month'],\n",
    "                y=pivot_data[vehicle],\n",
    "                mode='lines+markers',\n",
    "                name=vehicle,\n",
    "                line=dict(width=2),\n",
    "                marker=dict(symbol='circle', size=6),\n",
    "                text=pivot_data[vehicle].apply(lambda x: f\"{int(x):,}\"),\n",
    "                textposition='top center'\n",
    "            ))\n",
    "\n",
    "    plot_data.update_layout(\n",
    "        title=\"Monthly Fare Trends by Vehicle\",\n",
    "        xaxis_title=\"Month\",\n",
    "        yaxis_title=\"Total Fare Amount (KSH)\",\n",
    "        xaxis_tickangle=-45,\n",
    "        template='plotly_white'\n",
    "    )\n",
    "\n",
    "    # Save Plotly JSON\n",
    "    plot_data_json = plot_data.to_json()\n",
    "\n",
    "    # Create output directories\n",
    "    json_dir = f\"../json/all/month\"\n",
    "    os.makedirs(json_dir, exist_ok=True)\n",
    "\n",
    "    json_path = f\"{json_dir}/{output_file}.json\"\n",
    "    with open(json_path, 'w') as json_file:\n",
    "        json_file.write(plot_data_json)\n",
    "\n",
    "    print(f\"Saved JSON Plotly data: {json_path}\")\n",
    "\n",
    "    plot_data.show()\n",
    "\n",
    "# Call the function to generate the plot\n",
    "plot_monthly_fares_line(\"monthly_fares_line\")"
   ]
  },
  {
   "cell_type": "code",
   "execution_count": null,
   "metadata": {},
   "outputs": [],
   "source": [
    "def plot_monthly_fares_line_x1(vehicle_id, output_file):\n",
    "    # Filter data for the specific vehicle\n",
    "    vehicle_data = data[data['vehicle_booked'] == vehicle_id]\n",
    "\n",
    "    if vehicle_data.empty:\n",
    "        print(f\"No data found for vehicle: {vehicle_id}\")\n",
    "        return\n",
    "\n",
    "    # Aggregate total fare for the vehicle by month\n",
    "    monthly_fares = vehicle_data.groupby('month')['amount'].sum().reset_index()\n",
    "\n",
    "    # Ensure all months are present (based on the unique months in the dataset)\n",
    "    all_months = sorted(data['month'].unique())\n",
    "    monthly_fares = monthly_fares.set_index('month').reindex(all_months, fill_value=0).reset_index()\n",
    "\n",
    "    # Plotting\n",
    "    plot_data = go.Figure()\n",
    "\n",
    "    plot_data.add_trace(go.Scatter(\n",
    "        x=monthly_fares['month'],\n",
    "        y=monthly_fares['amount'],\n",
    "        mode='lines+markers',\n",
    "        name=vehicle_id,\n",
    "        line=dict(width=2),\n",
    "        marker=dict(symbol='circle', size=6),\n",
    "        text=monthly_fares['amount'].apply(lambda x: f\"{int(x):,}\"),\n",
    "        textposition='top center'\n",
    "    ))\n",
    "\n",
    "    plot_data.update_layout(\n",
    "        title=f\"Monthly Fare Trends for Vehicle {vehicle_id}\",\n",
    "        xaxis_title=\"Month\",\n",
    "        yaxis_title=\"Total Fare Amount (KSH)\",\n",
    "        xaxis_tickangle=-45,\n",
    "        template='plotly_white'\n",
    "    )\n",
    "\n",
    "    # Save Plotly JSON\n",
    "    plot_data_json = plot_data.to_json()\n",
    "\n",
    "    plot_data.show()\n",
    "\n",
    "    # Create output directories\n",
    "    json_dir = f\"../json/{vehicle_id}/eda/month\"\n",
    "    os.makedirs(json_dir, exist_ok=True)\n",
    "\n",
    "    json_path = f\"{json_dir}/{output_file}.json\"\n",
    "    with open(json_path, 'w') as json_file:\n",
    "        json_file.write(plot_data_json)\n",
    "\n",
    "    print(f\"Saved JSON Plotly data: {json_path}\")\n",
    "\n",
    "# Example usage:\n",
    "plot_monthly_fares_line_x1(\"SM191\", \"monthly_fares_line\")"
   ]
  },
  {
   "cell_type": "code",
   "execution_count": null,
   "metadata": {},
   "outputs": [],
   "source": [
    "def plot_monthly_fares_bar(output_file):\n",
    "    # Aggregate total fare for each vehicle by month\n",
    "    monthly_vehicle_fares = data.groupby(['month', 'vehicle_booked'])['amount'].sum().reset_index()\n",
    "\n",
    "    # Create a pivot table for better visualization\n",
    "    pivot_data = monthly_vehicle_fares.pivot(index='month', columns='vehicle_booked', values='amount').fillna(0)\n",
    "\n",
    "    # Ensure all vehicles are present\n",
    "    for vehicle in vehicles:\n",
    "        if vehicle not in pivot_data.columns:\n",
    "            pivot_data[vehicle] = 0\n",
    "\n",
    "    # Reindex with all months to ensure chronological order and fill missing months\n",
    "    all_months = sorted(data['month'].unique())\n",
    "    pivot_data = pivot_data.reindex(all_months).fillna(0)\n",
    "\n",
    "    # Initialize Plotly figure\n",
    "    fig = go.Figure()\n",
    "\n",
    "    # Add bar trace per vehicle\n",
    "    for vehicle in vehicles:\n",
    "        if vehicle in pivot_data.columns:\n",
    "            fig.add_trace(go.Bar(\n",
    "                x=all_months,\n",
    "                y=pivot_data[vehicle],\n",
    "                name=vehicle,\n",
    "                text=pivot_data[vehicle].apply(lambda x: f\"{int(x):,}\"),\n",
    "                textposition='auto'\n",
    "            ))\n",
    "\n",
    "    # Update layout\n",
    "    fig.update_layout(\n",
    "        title=\"Monthly Fare Breakdown by Vehicle (Bar Chart)\",\n",
    "        xaxis_title=\"Month\",\n",
    "        yaxis_title=\"Total Fare Amount (KSH)\",\n",
    "        barmode='group',  # grouped bars (side by side)\n",
    "        xaxis_tickangle=-45,\n",
    "        template='plotly_white',\n",
    "        legend_title=\"Vehicle\"\n",
    "    )\n",
    "\n",
    "    # Save as JSON\n",
    "    plot_data_json = fig.to_json()\n",
    "\n",
    "    # Create output directory\n",
    "    json_dir = f\"../json/all/month\"\n",
    "    os.makedirs(json_dir, exist_ok=True)\n",
    "\n",
    "    json_path = f\"{json_dir}/{output_file}.json\"\n",
    "    with open(json_path, 'w') as json_file:\n",
    "        json_file.write(plot_data_json)\n",
    "\n",
    "    print(f\"Saved JSON Plotly data: {json_path}\")\n",
    "\n",
    "    fig.show()\n",
    "\n",
    "# Example usage\n",
    "plot_monthly_fares_bar(\"monthly_fares_bar\")"
   ]
  },
  {
   "cell_type": "code",
   "execution_count": null,
   "metadata": {},
   "outputs": [],
   "source": [
    "def plot_monthly_fares_bar_x1(vehicle_id, output_file):\n",
    "    # Filter data for the specific vehicle\n",
    "    vehicle_data = data[data['vehicle_booked'] == vehicle_id]\n",
    "\n",
    "    if vehicle_data.empty:\n",
    "        print(f\"No data found for vehicle: {vehicle_id}\")\n",
    "        return\n",
    "\n",
    "    # Aggregate total fare for the vehicle by month\n",
    "    monthly_fares = vehicle_data.groupby('month')['amount'].sum().reset_index()\n",
    "\n",
    "    # Ensure all months are present\n",
    "    all_months = sorted(data['month'].unique())\n",
    "    monthly_fares = monthly_fares.set_index('month').reindex(all_months, fill_value=0).reset_index()\n",
    "\n",
    "    # Plotting\n",
    "    fig = go.Figure()\n",
    "\n",
    "    fig.add_trace(go.Bar(\n",
    "        x=monthly_fares['month'],\n",
    "        y=monthly_fares['amount'],\n",
    "        name=vehicle_id,\n",
    "        text=monthly_fares['amount'].apply(lambda x: f\"{int(x):,}\"),\n",
    "        textposition='auto',\n",
    "        marker_color='indianred'\n",
    "    ))\n",
    "\n",
    "    fig.update_layout(\n",
    "        title=f\"Monthly Fare Totals for Vehicle {vehicle_id} (Bar Chart)\",\n",
    "        xaxis_title=\"Month\",\n",
    "        yaxis_title=\"Total Fare Amount (KSH)\",\n",
    "        xaxis_tickangle=-45,\n",
    "        template='plotly_white',\n",
    "        legend_title=\"Vehicle\"\n",
    "    )\n",
    "\n",
    "    # Save Plotly JSON\n",
    "    plot_data_json = fig.to_json()\n",
    "\n",
    "    # Create output directories\n",
    "    json_dir = f\"../json/{vehicle_id}/eda/month\"\n",
    "    os.makedirs(json_dir, exist_ok=True)\n",
    "\n",
    "    json_path = f\"{json_dir}/{output_file}.json\"\n",
    "    with open(json_path, 'w') as json_file:\n",
    "        json_file.write(plot_data_json)\n",
    "\n",
    "    print(f\"Saved JSON Plotly data: {json_path}\")\n",
    "\n",
    "    fig.show()\n",
    "\n",
    "# Example usage\n",
    "plot_monthly_fares_bar_x1(\"SM055\", \"monthly_fares_bar\")"
   ]
  },
  {
   "cell_type": "code",
   "execution_count": null,
   "metadata": {},
   "outputs": [],
   "source": [
    "def plot_monthly_total_revenue_line(output_file):\n",
    "    # Calculate total revenue per month\n",
    "    monthly_total = data.groupby('month')['amount'].sum().reset_index()\n",
    "    monthly_total = monthly_total.sort_values('month')\n",
    "\n",
    "    # Plot using Plotly\n",
    "    fig = go.Figure()\n",
    "\n",
    "    fig.add_trace(go.Scatter(\n",
    "        x=monthly_total['month'],\n",
    "        y=monthly_total['amount'],\n",
    "        mode='lines+markers',\n",
    "        line=dict(color='green', width=2),\n",
    "        marker=dict(symbol='circle', size=6),\n",
    "        text=monthly_total['amount'].apply(lambda x: f\"{int(x):,}\"),\n",
    "        textposition='top center',\n",
    "        name=\"Total Earnings\"\n",
    "    ))\n",
    "\n",
    "    fig.update_layout(\n",
    "        title=\"Monthly Total Earnings - All Vehicles (Line)\",\n",
    "        xaxis_title=\"Month\",\n",
    "        yaxis_title=\"Total Earnings (KSH)\",\n",
    "        xaxis_tickangle=-45,\n",
    "        template='plotly_white'\n",
    "    )\n",
    "\n",
    "    # Save the Plotly JSON\n",
    "    fig_json = fig.to_json()\n",
    "\n",
    "    fig.show()\n",
    "\n",
    "    # Create output directories\n",
    "    json_dir = f\"../json/all/month\"\n",
    "    os.makedirs(json_dir, exist_ok=True)\n",
    "\n",
    "    json_path = f\"{json_dir}/{output_file}.json\"\n",
    "    with open(json_path, 'w') as json_file:\n",
    "        json_file.write(fig_json)\n",
    "\n",
    "    print(f\"Saved JSON Plotly data: {json_path}\")\n",
    "\n",
    "# Example usage\n",
    "plot_monthly_total_revenue_line(\"monthly_total_revenue_line\")\n"
   ]
  },
  {
   "cell_type": "code",
   "execution_count": null,
   "metadata": {},
   "outputs": [],
   "source": [
    "def plot_monthly_total_revenue_bar(output_file):\n",
    "    # Calculate total revenue per month\n",
    "    monthly_total = data.groupby('month')['amount'].sum().reset_index()\n",
    "    monthly_total = monthly_total.sort_values('month')\n",
    "\n",
    "    # Plot using Plotly for JSON output\n",
    "    fig = go.Figure()\n",
    "\n",
    "    fig.add_trace(go.Bar(\n",
    "        x=monthly_total['month'],\n",
    "        y=monthly_total['amount'],\n",
    "        marker=dict(color='skyblue'),\n",
    "        text=monthly_total['amount'].apply(lambda x: f\"{int(x):,}\"),\n",
    "        textposition='auto',\n",
    "        name=\"Total Earnings\"\n",
    "    ))\n",
    "\n",
    "    # Update layout\n",
    "    fig.update_layout(\n",
    "        title=\"Monthly Total Earnings - All Vehicles\",\n",
    "        xaxis_title=\"Month\",\n",
    "        yaxis_title=\"Total Earnings (KSH)\",\n",
    "        xaxis_tickangle=-45,\n",
    "        template='plotly_white'\n",
    "    )\n",
    "\n",
    "    # Save the Plotly JSON\n",
    "    fig_json = fig.to_json()\n",
    "\n",
    "    # Create output directories\n",
    "    json_dir = f\"../json/all/month\"\n",
    "    os.makedirs(json_dir, exist_ok=True)\n",
    "\n",
    "    json_path = f\"{json_dir}/{output_file}.json\"\n",
    "    with open(json_path, 'w') as json_file:\n",
    "        json_file.write(fig_json)\n",
    "\n",
    "    print(f\"Saved JSON Plotly data: {json_path}\")\n",
    "\n",
    "    # Show plot\n",
    "    fig.show()\n",
    "\n",
    "# Example usage\n",
    "plot_monthly_total_revenue_bar(\"monthly_total_revenue_bar\")"
   ]
  },
  {
   "cell_type": "code",
   "execution_count": 17,
   "metadata": {},
   "outputs": [
    {
     "name": "stdout",
     "output_type": "stream",
     "text": [
      "Saved JSON Plotly data: ../json/all/month/monthly_stacked_earnings.json\n"
     ]
    },
    {
     "data": {
      "application/vnd.plotly.v1+json": {
       "config": {
        "plotlyServerURL": "https://plot.ly"
       },
       "data": [
        {
         "name": "SM024",
         "text": [
          "15,450",
          "14,440",
          "170",
          "9,465"
         ],
         "textposition": "auto",
         "type": "bar",
         "x": [
          "2024-12",
          "2025-01",
          "2025-02",
          "2025-03"
         ],
         "y": {
          "bdata": "WjxoOKoA+SQ=",
          "dtype": "i2"
         }
        },
        {
         "name": "SM055",
         "text": [
          "39,110",
          "30,570",
          "27,070",
          "4,860"
         ],
         "textposition": "auto",
         "type": "bar",
         "x": [
          "2024-12",
          "2025-01",
          "2025-02",
          "2025-03"
         ],
         "y": {
          "bdata": "xpgAAGp3AAC+aQAA/BIAAA==",
          "dtype": "i4"
         }
        },
        {
         "name": "SM191",
         "text": [
          "793",
          "2,320",
          "4,950",
          "0"
         ],
         "textposition": "auto",
         "type": "bar",
         "x": [
          "2024-12",
          "2025-01",
          "2025-02",
          "2025-03"
         ],
         "y": {
          "bdata": "GQMQCVYTAAA=",
          "dtype": "i2"
         }
        },
        {
         "name": "SM192",
         "text": [
          "5,990",
          "8,690",
          "2,300",
          "3,250"
         ],
         "textposition": "auto",
         "type": "bar",
         "x": [
          "2024-12",
          "2025-01",
          "2025-02",
          "2025-03"
         ],
         "y": {
          "bdata": "ZhfyIfwIsgw=",
          "dtype": "i2"
         }
        },
        {
         "name": "SM944",
         "text": [
          "10,840",
          "18,780",
          "7,370",
          "15,950"
         ],
         "textposition": "auto",
         "type": "bar",
         "x": [
          "2024-12",
          "2025-01",
          "2025-02",
          "2025-03"
         ],
         "y": {
          "bdata": "WCpcScocTj4=",
          "dtype": "i2"
         }
        }
       ],
       "layout": {
        "barmode": "stack",
        "legend": {
         "title": {
          "text": "Vehicles"
         }
        },
        "template": {
         "data": {
          "bar": [
           {
            "error_x": {
             "color": "#2a3f5f"
            },
            "error_y": {
             "color": "#2a3f5f"
            },
            "marker": {
             "line": {
              "color": "white",
              "width": 0.5
             },
             "pattern": {
              "fillmode": "overlay",
              "size": 10,
              "solidity": 0.2
             }
            },
            "type": "bar"
           }
          ],
          "barpolar": [
           {
            "marker": {
             "line": {
              "color": "white",
              "width": 0.5
             },
             "pattern": {
              "fillmode": "overlay",
              "size": 10,
              "solidity": 0.2
             }
            },
            "type": "barpolar"
           }
          ],
          "carpet": [
           {
            "aaxis": {
             "endlinecolor": "#2a3f5f",
             "gridcolor": "#C8D4E3",
             "linecolor": "#C8D4E3",
             "minorgridcolor": "#C8D4E3",
             "startlinecolor": "#2a3f5f"
            },
            "baxis": {
             "endlinecolor": "#2a3f5f",
             "gridcolor": "#C8D4E3",
             "linecolor": "#C8D4E3",
             "minorgridcolor": "#C8D4E3",
             "startlinecolor": "#2a3f5f"
            },
            "type": "carpet"
           }
          ],
          "choropleth": [
           {
            "colorbar": {
             "outlinewidth": 0,
             "ticks": ""
            },
            "type": "choropleth"
           }
          ],
          "contour": [
           {
            "colorbar": {
             "outlinewidth": 0,
             "ticks": ""
            },
            "colorscale": [
             [
              0,
              "#0d0887"
             ],
             [
              0.1111111111111111,
              "#46039f"
             ],
             [
              0.2222222222222222,
              "#7201a8"
             ],
             [
              0.3333333333333333,
              "#9c179e"
             ],
             [
              0.4444444444444444,
              "#bd3786"
             ],
             [
              0.5555555555555556,
              "#d8576b"
             ],
             [
              0.6666666666666666,
              "#ed7953"
             ],
             [
              0.7777777777777778,
              "#fb9f3a"
             ],
             [
              0.8888888888888888,
              "#fdca26"
             ],
             [
              1,
              "#f0f921"
             ]
            ],
            "type": "contour"
           }
          ],
          "contourcarpet": [
           {
            "colorbar": {
             "outlinewidth": 0,
             "ticks": ""
            },
            "type": "contourcarpet"
           }
          ],
          "heatmap": [
           {
            "colorbar": {
             "outlinewidth": 0,
             "ticks": ""
            },
            "colorscale": [
             [
              0,
              "#0d0887"
             ],
             [
              0.1111111111111111,
              "#46039f"
             ],
             [
              0.2222222222222222,
              "#7201a8"
             ],
             [
              0.3333333333333333,
              "#9c179e"
             ],
             [
              0.4444444444444444,
              "#bd3786"
             ],
             [
              0.5555555555555556,
              "#d8576b"
             ],
             [
              0.6666666666666666,
              "#ed7953"
             ],
             [
              0.7777777777777778,
              "#fb9f3a"
             ],
             [
              0.8888888888888888,
              "#fdca26"
             ],
             [
              1,
              "#f0f921"
             ]
            ],
            "type": "heatmap"
           }
          ],
          "histogram": [
           {
            "marker": {
             "pattern": {
              "fillmode": "overlay",
              "size": 10,
              "solidity": 0.2
             }
            },
            "type": "histogram"
           }
          ],
          "histogram2d": [
           {
            "colorbar": {
             "outlinewidth": 0,
             "ticks": ""
            },
            "colorscale": [
             [
              0,
              "#0d0887"
             ],
             [
              0.1111111111111111,
              "#46039f"
             ],
             [
              0.2222222222222222,
              "#7201a8"
             ],
             [
              0.3333333333333333,
              "#9c179e"
             ],
             [
              0.4444444444444444,
              "#bd3786"
             ],
             [
              0.5555555555555556,
              "#d8576b"
             ],
             [
              0.6666666666666666,
              "#ed7953"
             ],
             [
              0.7777777777777778,
              "#fb9f3a"
             ],
             [
              0.8888888888888888,
              "#fdca26"
             ],
             [
              1,
              "#f0f921"
             ]
            ],
            "type": "histogram2d"
           }
          ],
          "histogram2dcontour": [
           {
            "colorbar": {
             "outlinewidth": 0,
             "ticks": ""
            },
            "colorscale": [
             [
              0,
              "#0d0887"
             ],
             [
              0.1111111111111111,
              "#46039f"
             ],
             [
              0.2222222222222222,
              "#7201a8"
             ],
             [
              0.3333333333333333,
              "#9c179e"
             ],
             [
              0.4444444444444444,
              "#bd3786"
             ],
             [
              0.5555555555555556,
              "#d8576b"
             ],
             [
              0.6666666666666666,
              "#ed7953"
             ],
             [
              0.7777777777777778,
              "#fb9f3a"
             ],
             [
              0.8888888888888888,
              "#fdca26"
             ],
             [
              1,
              "#f0f921"
             ]
            ],
            "type": "histogram2dcontour"
           }
          ],
          "mesh3d": [
           {
            "colorbar": {
             "outlinewidth": 0,
             "ticks": ""
            },
            "type": "mesh3d"
           }
          ],
          "parcoords": [
           {
            "line": {
             "colorbar": {
              "outlinewidth": 0,
              "ticks": ""
             }
            },
            "type": "parcoords"
           }
          ],
          "pie": [
           {
            "automargin": true,
            "type": "pie"
           }
          ],
          "scatter": [
           {
            "fillpattern": {
             "fillmode": "overlay",
             "size": 10,
             "solidity": 0.2
            },
            "type": "scatter"
           }
          ],
          "scatter3d": [
           {
            "line": {
             "colorbar": {
              "outlinewidth": 0,
              "ticks": ""
             }
            },
            "marker": {
             "colorbar": {
              "outlinewidth": 0,
              "ticks": ""
             }
            },
            "type": "scatter3d"
           }
          ],
          "scattercarpet": [
           {
            "marker": {
             "colorbar": {
              "outlinewidth": 0,
              "ticks": ""
             }
            },
            "type": "scattercarpet"
           }
          ],
          "scattergeo": [
           {
            "marker": {
             "colorbar": {
              "outlinewidth": 0,
              "ticks": ""
             }
            },
            "type": "scattergeo"
           }
          ],
          "scattergl": [
           {
            "marker": {
             "colorbar": {
              "outlinewidth": 0,
              "ticks": ""
             }
            },
            "type": "scattergl"
           }
          ],
          "scattermap": [
           {
            "marker": {
             "colorbar": {
              "outlinewidth": 0,
              "ticks": ""
             }
            },
            "type": "scattermap"
           }
          ],
          "scattermapbox": [
           {
            "marker": {
             "colorbar": {
              "outlinewidth": 0,
              "ticks": ""
             }
            },
            "type": "scattermapbox"
           }
          ],
          "scatterpolar": [
           {
            "marker": {
             "colorbar": {
              "outlinewidth": 0,
              "ticks": ""
             }
            },
            "type": "scatterpolar"
           }
          ],
          "scatterpolargl": [
           {
            "marker": {
             "colorbar": {
              "outlinewidth": 0,
              "ticks": ""
             }
            },
            "type": "scatterpolargl"
           }
          ],
          "scatterternary": [
           {
            "marker": {
             "colorbar": {
              "outlinewidth": 0,
              "ticks": ""
             }
            },
            "type": "scatterternary"
           }
          ],
          "surface": [
           {
            "colorbar": {
             "outlinewidth": 0,
             "ticks": ""
            },
            "colorscale": [
             [
              0,
              "#0d0887"
             ],
             [
              0.1111111111111111,
              "#46039f"
             ],
             [
              0.2222222222222222,
              "#7201a8"
             ],
             [
              0.3333333333333333,
              "#9c179e"
             ],
             [
              0.4444444444444444,
              "#bd3786"
             ],
             [
              0.5555555555555556,
              "#d8576b"
             ],
             [
              0.6666666666666666,
              "#ed7953"
             ],
             [
              0.7777777777777778,
              "#fb9f3a"
             ],
             [
              0.8888888888888888,
              "#fdca26"
             ],
             [
              1,
              "#f0f921"
             ]
            ],
            "type": "surface"
           }
          ],
          "table": [
           {
            "cells": {
             "fill": {
              "color": "#EBF0F8"
             },
             "line": {
              "color": "white"
             }
            },
            "header": {
             "fill": {
              "color": "#C8D4E3"
             },
             "line": {
              "color": "white"
             }
            },
            "type": "table"
           }
          ]
         },
         "layout": {
          "annotationdefaults": {
           "arrowcolor": "#2a3f5f",
           "arrowhead": 0,
           "arrowwidth": 1
          },
          "autotypenumbers": "strict",
          "coloraxis": {
           "colorbar": {
            "outlinewidth": 0,
            "ticks": ""
           }
          },
          "colorscale": {
           "diverging": [
            [
             0,
             "#8e0152"
            ],
            [
             0.1,
             "#c51b7d"
            ],
            [
             0.2,
             "#de77ae"
            ],
            [
             0.3,
             "#f1b6da"
            ],
            [
             0.4,
             "#fde0ef"
            ],
            [
             0.5,
             "#f7f7f7"
            ],
            [
             0.6,
             "#e6f5d0"
            ],
            [
             0.7,
             "#b8e186"
            ],
            [
             0.8,
             "#7fbc41"
            ],
            [
             0.9,
             "#4d9221"
            ],
            [
             1,
             "#276419"
            ]
           ],
           "sequential": [
            [
             0,
             "#0d0887"
            ],
            [
             0.1111111111111111,
             "#46039f"
            ],
            [
             0.2222222222222222,
             "#7201a8"
            ],
            [
             0.3333333333333333,
             "#9c179e"
            ],
            [
             0.4444444444444444,
             "#bd3786"
            ],
            [
             0.5555555555555556,
             "#d8576b"
            ],
            [
             0.6666666666666666,
             "#ed7953"
            ],
            [
             0.7777777777777778,
             "#fb9f3a"
            ],
            [
             0.8888888888888888,
             "#fdca26"
            ],
            [
             1,
             "#f0f921"
            ]
           ],
           "sequentialminus": [
            [
             0,
             "#0d0887"
            ],
            [
             0.1111111111111111,
             "#46039f"
            ],
            [
             0.2222222222222222,
             "#7201a8"
            ],
            [
             0.3333333333333333,
             "#9c179e"
            ],
            [
             0.4444444444444444,
             "#bd3786"
            ],
            [
             0.5555555555555556,
             "#d8576b"
            ],
            [
             0.6666666666666666,
             "#ed7953"
            ],
            [
             0.7777777777777778,
             "#fb9f3a"
            ],
            [
             0.8888888888888888,
             "#fdca26"
            ],
            [
             1,
             "#f0f921"
            ]
           ]
          },
          "colorway": [
           "#636efa",
           "#EF553B",
           "#00cc96",
           "#ab63fa",
           "#FFA15A",
           "#19d3f3",
           "#FF6692",
           "#B6E880",
           "#FF97FF",
           "#FECB52"
          ],
          "font": {
           "color": "#2a3f5f"
          },
          "geo": {
           "bgcolor": "white",
           "lakecolor": "white",
           "landcolor": "white",
           "showlakes": true,
           "showland": true,
           "subunitcolor": "#C8D4E3"
          },
          "hoverlabel": {
           "align": "left"
          },
          "hovermode": "closest",
          "mapbox": {
           "style": "light"
          },
          "paper_bgcolor": "white",
          "plot_bgcolor": "white",
          "polar": {
           "angularaxis": {
            "gridcolor": "#EBF0F8",
            "linecolor": "#EBF0F8",
            "ticks": ""
           },
           "bgcolor": "white",
           "radialaxis": {
            "gridcolor": "#EBF0F8",
            "linecolor": "#EBF0F8",
            "ticks": ""
           }
          },
          "scene": {
           "xaxis": {
            "backgroundcolor": "white",
            "gridcolor": "#DFE8F3",
            "gridwidth": 2,
            "linecolor": "#EBF0F8",
            "showbackground": true,
            "ticks": "",
            "zerolinecolor": "#EBF0F8"
           },
           "yaxis": {
            "backgroundcolor": "white",
            "gridcolor": "#DFE8F3",
            "gridwidth": 2,
            "linecolor": "#EBF0F8",
            "showbackground": true,
            "ticks": "",
            "zerolinecolor": "#EBF0F8"
           },
           "zaxis": {
            "backgroundcolor": "white",
            "gridcolor": "#DFE8F3",
            "gridwidth": 2,
            "linecolor": "#EBF0F8",
            "showbackground": true,
            "ticks": "",
            "zerolinecolor": "#EBF0F8"
           }
          },
          "shapedefaults": {
           "line": {
            "color": "#2a3f5f"
           }
          },
          "ternary": {
           "aaxis": {
            "gridcolor": "#DFE8F3",
            "linecolor": "#A2B1C6",
            "ticks": ""
           },
           "baxis": {
            "gridcolor": "#DFE8F3",
            "linecolor": "#A2B1C6",
            "ticks": ""
           },
           "bgcolor": "white",
           "caxis": {
            "gridcolor": "#DFE8F3",
            "linecolor": "#A2B1C6",
            "ticks": ""
           }
          },
          "title": {
           "x": 0.05
          },
          "xaxis": {
           "automargin": true,
           "gridcolor": "#EBF0F8",
           "linecolor": "#EBF0F8",
           "ticks": "",
           "title": {
            "standoff": 15
           },
           "zerolinecolor": "#EBF0F8",
           "zerolinewidth": 2
          },
          "yaxis": {
           "automargin": true,
           "gridcolor": "#EBF0F8",
           "linecolor": "#EBF0F8",
           "ticks": "",
           "title": {
            "standoff": 15
           },
           "zerolinecolor": "#EBF0F8",
           "zerolinewidth": 2
          }
         }
        },
        "title": {
         "text": "Monthly Earnings Breakdown by Vehicle"
        },
        "xaxis": {
         "tickangle": -45,
         "title": {
          "text": "Month"
         }
        },
        "yaxis": {
         "title": {
          "text": "Total Earnings (KSH)"
         }
        }
       }
      }
     },
     "metadata": {},
     "output_type": "display_data"
    }
   ],
   "source": [
    "def plot_monthly_breakdown_by_vehicle(output_file):\n",
    "    # Aggregate total earnings by month and vehicle\n",
    "    monthly_by_vehicle = data.groupby(['month', 'vehicle_booked'])['amount'].sum().reset_index()\n",
    "\n",
    "    # Pivot table for vehicle columns\n",
    "    monthly_by_vehicle_pivot = monthly_by_vehicle.pivot(index='month', columns='vehicle_booked', values='amount')\n",
    "    monthly_by_vehicle_pivot = monthly_by_vehicle_pivot.fillna(0).sort_index()\n",
    "\n",
    "    # Create a Plotly figure\n",
    "    fig = go.Figure()\n",
    "\n",
    "    for vehicle in monthly_by_vehicle_pivot.columns:\n",
    "        fig.add_trace(go.Bar(\n",
    "            x=monthly_by_vehicle_pivot.index,\n",
    "            y=monthly_by_vehicle_pivot[vehicle],\n",
    "            name=vehicle,\n",
    "            text=monthly_by_vehicle_pivot[vehicle].apply(lambda x: f\"{int(x):,}\"),\n",
    "            textposition='auto'\n",
    "        ))\n",
    "\n",
    "    # Update layout for grouped bars\n",
    "    fig.update_layout(\n",
    "        title=\"Monthly Earnings Breakdown by Vehicle\",\n",
    "        xaxis_title=\"Month\",\n",
    "        yaxis_title=\"Total Earnings (KSH)\",\n",
    "        barmode='stack',  # stacked bars\n",
    "        template='plotly_white',\n",
    "        xaxis_tickangle=-45,\n",
    "        legend_title=\"Vehicles\"\n",
    "    )\n",
    "\n",
    "    # Save the Plotly figure as JSON\n",
    "    plot_json = fig.to_json()\n",
    "\n",
    "    # Create output directory\n",
    "    json_dir = f\"../json/all/month\"\n",
    "    os.makedirs(json_dir, exist_ok=True)\n",
    "\n",
    "    json_path = f\"{json_dir}/{output_file}.json\"\n",
    "    with open(json_path, 'w') as json_file:\n",
    "        json_file.write(plot_json)\n",
    "\n",
    "    print(f\"Saved JSON Plotly data: {json_path}\")\n",
    "\n",
    "    fig.show()  # Optional: show in notebook or script\n",
    "\n",
    "# Example usage\n",
    "plot_monthly_breakdown_by_vehicle(\"monthly_stacked_earnings\")\n"
   ]
  }
 ],
 "metadata": {
  "kernelspec": {
   "display_name": "venv",
   "language": "python",
   "name": "python3"
  },
  "language_info": {
   "codemirror_mode": {
    "name": "ipython",
    "version": 3
   },
   "file_extension": ".py",
   "mimetype": "text/x-python",
   "name": "python",
   "nbconvert_exporter": "python",
   "pygments_lexer": "ipython3",
   "version": "3.13.0"
  }
 },
 "nbformat": 4,
 "nbformat_minor": 2
}
