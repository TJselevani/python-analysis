{
 "cells": [
  {
   "cell_type": "code",
   "execution_count": 3,
   "metadata": {},
   "outputs": [],
   "source": [
    "# packages and dependencies import\n",
    "import os\n",
    "import sys\n",
    "import json\n",
    "import pandas as pd # used for data manipulation\n",
    "import numpy as np # used for mathematical operations\n",
    "\n",
    "# Used for data transfer and visualization \n",
    "import plotly.graph_objects as go\n",
    "import plotly.io as pio\n",
    "from plotly.utils import PlotlyJSONEncoder "
   ]
  },
  {
   "cell_type": "code",
   "execution_count": 4,
   "metadata": {},
   "outputs": [],
   "source": [
    "# Data Import\n",
    "data = pd.read_csv(\"/home/tjselevani/Desktop/Apps/vscode/python/python analysis/data/last-3-months-transactions.csv\")\n",
    "\n",
    "# Convert 'created_at' column to datetime if not already\n",
    "data['created_at'] = pd.to_datetime(data['created_at'])\n",
    "\n",
    "# Extract the year from 'created_at'\n",
    "data.loc[:, 'year'] = data['created_at'].dt.year"
   ]
  },
  {
   "cell_type": "code",
   "execution_count": 5,
   "metadata": {},
   "outputs": [],
   "source": [
    "data = data[data['transaction_type'] == 'CREDIT'].copy()"
   ]
  },
  {
   "cell_type": "code",
   "execution_count": 6,
   "metadata": {},
   "outputs": [],
   "source": [
    "# Define unique colors for each vehicle, plus \"Unknown\" and \"Failed Transactions\"\n",
    "vehicle_colors = {\n",
    "    'SM191': 'blue',\n",
    "    'SM192': 'green',\n",
    "    'SM944': 'yellow',\n",
    "    'SM055': 'purple',\n",
    "    'SM024': 'orange',\n",
    "    'Unknown': 'gray',\n",
    "    'Failed': 'red'\n",
    "}\n",
    "\n",
    "# Map colors to vehicle_booked, filling NaN values with a default color (e.g., gray)\n",
    "data.loc[:,'color'] = data['vehicle_booked'].map(vehicle_colors).fillna('gray')\n",
    "\n",
    "# Define vehicles list (unique vehicles from the data)\n",
    "vehicles = data['vehicle_booked'].dropna().unique()"
   ]
  },
  {
   "cell_type": "code",
   "execution_count": 7,
   "metadata": {},
   "outputs": [],
   "source": [
    "# Aggregate data by month for each vehicle\n",
    "yearly_by_vehicle = data.groupby(['year', 'vehicle_booked'])['amount'].sum().reset_index()\n",
    "\n",
    "# Pivot the data to have vehicles as columns\n",
    "yearly_pivot = yearly_by_vehicle.pivot(index='year', columns='vehicle_booked', values='amount').reset_index()\n",
    "\n",
    "# Sort by month (assuming format is YYYY-MM)\n",
    "yearly_pivot = yearly_pivot.sort_values('year')"
   ]
  },
  {
   "cell_type": "code",
   "execution_count": 8,
   "metadata": {},
   "outputs": [],
   "source": [
    "# Yearly totals (extract year from month)\n",
    "# data['year'] = pd.to_datetime(data['created_at']).dt.year\n",
    "yearly_total = data.groupby('year')['amount'].sum().reset_index()"
   ]
  },
  {
   "cell_type": "code",
   "execution_count": null,
   "metadata": {},
   "outputs": [
    {
     "name": "stdout",
     "output_type": "stream",
     "text": [
      "Saved JSON Plotly data: ../json/all/year/yearly_fares_line.json\n"
     ]
    },
    {
     "data": {
      "application/vnd.plotly.v1+json": {
       "config": {
        "plotlyServerURL": "https://plot.ly"
       },
       "data": [
        {
         "line": {
          "color": "blue",
          "width": 2
         },
         "marker": {
          "size": 6,
          "symbol": "circle"
         },
         "mode": "lines+markers",
         "name": "Total Earnings",
         "text": [
          "360,576",
          "750,224"
         ],
         "textposition": "top center",
         "type": "scatter",
         "x": {
          "bdata": "6AcAAOkHAAA=",
          "dtype": "i4"
         },
         "y": {
          "bdata": "gIAFAJByCwA=",
          "dtype": "i4"
         }
        }
       ],
       "layout": {
        "template": {
         "data": {
          "bar": [
           {
            "error_x": {
             "color": "#2a3f5f"
            },
            "error_y": {
             "color": "#2a3f5f"
            },
            "marker": {
             "line": {
              "color": "white",
              "width": 0.5
             },
             "pattern": {
              "fillmode": "overlay",
              "size": 10,
              "solidity": 0.2
             }
            },
            "type": "bar"
           }
          ],
          "barpolar": [
           {
            "marker": {
             "line": {
              "color": "white",
              "width": 0.5
             },
             "pattern": {
              "fillmode": "overlay",
              "size": 10,
              "solidity": 0.2
             }
            },
            "type": "barpolar"
           }
          ],
          "carpet": [
           {
            "aaxis": {
             "endlinecolor": "#2a3f5f",
             "gridcolor": "#C8D4E3",
             "linecolor": "#C8D4E3",
             "minorgridcolor": "#C8D4E3",
             "startlinecolor": "#2a3f5f"
            },
            "baxis": {
             "endlinecolor": "#2a3f5f",
             "gridcolor": "#C8D4E3",
             "linecolor": "#C8D4E3",
             "minorgridcolor": "#C8D4E3",
             "startlinecolor": "#2a3f5f"
            },
            "type": "carpet"
           }
          ],
          "choropleth": [
           {
            "colorbar": {
             "outlinewidth": 0,
             "ticks": ""
            },
            "type": "choropleth"
           }
          ],
          "contour": [
           {
            "colorbar": {
             "outlinewidth": 0,
             "ticks": ""
            },
            "colorscale": [
             [
              0,
              "#0d0887"
             ],
             [
              0.1111111111111111,
              "#46039f"
             ],
             [
              0.2222222222222222,
              "#7201a8"
             ],
             [
              0.3333333333333333,
              "#9c179e"
             ],
             [
              0.4444444444444444,
              "#bd3786"
             ],
             [
              0.5555555555555556,
              "#d8576b"
             ],
             [
              0.6666666666666666,
              "#ed7953"
             ],
             [
              0.7777777777777778,
              "#fb9f3a"
             ],
             [
              0.8888888888888888,
              "#fdca26"
             ],
             [
              1,
              "#f0f921"
             ]
            ],
            "type": "contour"
           }
          ],
          "contourcarpet": [
           {
            "colorbar": {
             "outlinewidth": 0,
             "ticks": ""
            },
            "type": "contourcarpet"
           }
          ],
          "heatmap": [
           {
            "colorbar": {
             "outlinewidth": 0,
             "ticks": ""
            },
            "colorscale": [
             [
              0,
              "#0d0887"
             ],
             [
              0.1111111111111111,
              "#46039f"
             ],
             [
              0.2222222222222222,
              "#7201a8"
             ],
             [
              0.3333333333333333,
              "#9c179e"
             ],
             [
              0.4444444444444444,
              "#bd3786"
             ],
             [
              0.5555555555555556,
              "#d8576b"
             ],
             [
              0.6666666666666666,
              "#ed7953"
             ],
             [
              0.7777777777777778,
              "#fb9f3a"
             ],
             [
              0.8888888888888888,
              "#fdca26"
             ],
             [
              1,
              "#f0f921"
             ]
            ],
            "type": "heatmap"
           }
          ],
          "histogram": [
           {
            "marker": {
             "pattern": {
              "fillmode": "overlay",
              "size": 10,
              "solidity": 0.2
             }
            },
            "type": "histogram"
           }
          ],
          "histogram2d": [
           {
            "colorbar": {
             "outlinewidth": 0,
             "ticks": ""
            },
            "colorscale": [
             [
              0,
              "#0d0887"
             ],
             [
              0.1111111111111111,
              "#46039f"
             ],
             [
              0.2222222222222222,
              "#7201a8"
             ],
             [
              0.3333333333333333,
              "#9c179e"
             ],
             [
              0.4444444444444444,
              "#bd3786"
             ],
             [
              0.5555555555555556,
              "#d8576b"
             ],
             [
              0.6666666666666666,
              "#ed7953"
             ],
             [
              0.7777777777777778,
              "#fb9f3a"
             ],
             [
              0.8888888888888888,
              "#fdca26"
             ],
             [
              1,
              "#f0f921"
             ]
            ],
            "type": "histogram2d"
           }
          ],
          "histogram2dcontour": [
           {
            "colorbar": {
             "outlinewidth": 0,
             "ticks": ""
            },
            "colorscale": [
             [
              0,
              "#0d0887"
             ],
             [
              0.1111111111111111,
              "#46039f"
             ],
             [
              0.2222222222222222,
              "#7201a8"
             ],
             [
              0.3333333333333333,
              "#9c179e"
             ],
             [
              0.4444444444444444,
              "#bd3786"
             ],
             [
              0.5555555555555556,
              "#d8576b"
             ],
             [
              0.6666666666666666,
              "#ed7953"
             ],
             [
              0.7777777777777778,
              "#fb9f3a"
             ],
             [
              0.8888888888888888,
              "#fdca26"
             ],
             [
              1,
              "#f0f921"
             ]
            ],
            "type": "histogram2dcontour"
           }
          ],
          "mesh3d": [
           {
            "colorbar": {
             "outlinewidth": 0,
             "ticks": ""
            },
            "type": "mesh3d"
           }
          ],
          "parcoords": [
           {
            "line": {
             "colorbar": {
              "outlinewidth": 0,
              "ticks": ""
             }
            },
            "type": "parcoords"
           }
          ],
          "pie": [
           {
            "automargin": true,
            "type": "pie"
           }
          ],
          "scatter": [
           {
            "fillpattern": {
             "fillmode": "overlay",
             "size": 10,
             "solidity": 0.2
            },
            "type": "scatter"
           }
          ],
          "scatter3d": [
           {
            "line": {
             "colorbar": {
              "outlinewidth": 0,
              "ticks": ""
             }
            },
            "marker": {
             "colorbar": {
              "outlinewidth": 0,
              "ticks": ""
             }
            },
            "type": "scatter3d"
           }
          ],
          "scattercarpet": [
           {
            "marker": {
             "colorbar": {
              "outlinewidth": 0,
              "ticks": ""
             }
            },
            "type": "scattercarpet"
           }
          ],
          "scattergeo": [
           {
            "marker": {
             "colorbar": {
              "outlinewidth": 0,
              "ticks": ""
             }
            },
            "type": "scattergeo"
           }
          ],
          "scattergl": [
           {
            "marker": {
             "colorbar": {
              "outlinewidth": 0,
              "ticks": ""
             }
            },
            "type": "scattergl"
           }
          ],
          "scattermap": [
           {
            "marker": {
             "colorbar": {
              "outlinewidth": 0,
              "ticks": ""
             }
            },
            "type": "scattermap"
           }
          ],
          "scattermapbox": [
           {
            "marker": {
             "colorbar": {
              "outlinewidth": 0,
              "ticks": ""
             }
            },
            "type": "scattermapbox"
           }
          ],
          "scatterpolar": [
           {
            "marker": {
             "colorbar": {
              "outlinewidth": 0,
              "ticks": ""
             }
            },
            "type": "scatterpolar"
           }
          ],
          "scatterpolargl": [
           {
            "marker": {
             "colorbar": {
              "outlinewidth": 0,
              "ticks": ""
             }
            },
            "type": "scatterpolargl"
           }
          ],
          "scatterternary": [
           {
            "marker": {
             "colorbar": {
              "outlinewidth": 0,
              "ticks": ""
             }
            },
            "type": "scatterternary"
           }
          ],
          "surface": [
           {
            "colorbar": {
             "outlinewidth": 0,
             "ticks": ""
            },
            "colorscale": [
             [
              0,
              "#0d0887"
             ],
             [
              0.1111111111111111,
              "#46039f"
             ],
             [
              0.2222222222222222,
              "#7201a8"
             ],
             [
              0.3333333333333333,
              "#9c179e"
             ],
             [
              0.4444444444444444,
              "#bd3786"
             ],
             [
              0.5555555555555556,
              "#d8576b"
             ],
             [
              0.6666666666666666,
              "#ed7953"
             ],
             [
              0.7777777777777778,
              "#fb9f3a"
             ],
             [
              0.8888888888888888,
              "#fdca26"
             ],
             [
              1,
              "#f0f921"
             ]
            ],
            "type": "surface"
           }
          ],
          "table": [
           {
            "cells": {
             "fill": {
              "color": "#EBF0F8"
             },
             "line": {
              "color": "white"
             }
            },
            "header": {
             "fill": {
              "color": "#C8D4E3"
             },
             "line": {
              "color": "white"
             }
            },
            "type": "table"
           }
          ]
         },
         "layout": {
          "annotationdefaults": {
           "arrowcolor": "#2a3f5f",
           "arrowhead": 0,
           "arrowwidth": 1
          },
          "autotypenumbers": "strict",
          "coloraxis": {
           "colorbar": {
            "outlinewidth": 0,
            "ticks": ""
           }
          },
          "colorscale": {
           "diverging": [
            [
             0,
             "#8e0152"
            ],
            [
             0.1,
             "#c51b7d"
            ],
            [
             0.2,
             "#de77ae"
            ],
            [
             0.3,
             "#f1b6da"
            ],
            [
             0.4,
             "#fde0ef"
            ],
            [
             0.5,
             "#f7f7f7"
            ],
            [
             0.6,
             "#e6f5d0"
            ],
            [
             0.7,
             "#b8e186"
            ],
            [
             0.8,
             "#7fbc41"
            ],
            [
             0.9,
             "#4d9221"
            ],
            [
             1,
             "#276419"
            ]
           ],
           "sequential": [
            [
             0,
             "#0d0887"
            ],
            [
             0.1111111111111111,
             "#46039f"
            ],
            [
             0.2222222222222222,
             "#7201a8"
            ],
            [
             0.3333333333333333,
             "#9c179e"
            ],
            [
             0.4444444444444444,
             "#bd3786"
            ],
            [
             0.5555555555555556,
             "#d8576b"
            ],
            [
             0.6666666666666666,
             "#ed7953"
            ],
            [
             0.7777777777777778,
             "#fb9f3a"
            ],
            [
             0.8888888888888888,
             "#fdca26"
            ],
            [
             1,
             "#f0f921"
            ]
           ],
           "sequentialminus": [
            [
             0,
             "#0d0887"
            ],
            [
             0.1111111111111111,
             "#46039f"
            ],
            [
             0.2222222222222222,
             "#7201a8"
            ],
            [
             0.3333333333333333,
             "#9c179e"
            ],
            [
             0.4444444444444444,
             "#bd3786"
            ],
            [
             0.5555555555555556,
             "#d8576b"
            ],
            [
             0.6666666666666666,
             "#ed7953"
            ],
            [
             0.7777777777777778,
             "#fb9f3a"
            ],
            [
             0.8888888888888888,
             "#fdca26"
            ],
            [
             1,
             "#f0f921"
            ]
           ]
          },
          "colorway": [
           "#636efa",
           "#EF553B",
           "#00cc96",
           "#ab63fa",
           "#FFA15A",
           "#19d3f3",
           "#FF6692",
           "#B6E880",
           "#FF97FF",
           "#FECB52"
          ],
          "font": {
           "color": "#2a3f5f"
          },
          "geo": {
           "bgcolor": "white",
           "lakecolor": "white",
           "landcolor": "white",
           "showlakes": true,
           "showland": true,
           "subunitcolor": "#C8D4E3"
          },
          "hoverlabel": {
           "align": "left"
          },
          "hovermode": "closest",
          "mapbox": {
           "style": "light"
          },
          "paper_bgcolor": "white",
          "plot_bgcolor": "white",
          "polar": {
           "angularaxis": {
            "gridcolor": "#EBF0F8",
            "linecolor": "#EBF0F8",
            "ticks": ""
           },
           "bgcolor": "white",
           "radialaxis": {
            "gridcolor": "#EBF0F8",
            "linecolor": "#EBF0F8",
            "ticks": ""
           }
          },
          "scene": {
           "xaxis": {
            "backgroundcolor": "white",
            "gridcolor": "#DFE8F3",
            "gridwidth": 2,
            "linecolor": "#EBF0F8",
            "showbackground": true,
            "ticks": "",
            "zerolinecolor": "#EBF0F8"
           },
           "yaxis": {
            "backgroundcolor": "white",
            "gridcolor": "#DFE8F3",
            "gridwidth": 2,
            "linecolor": "#EBF0F8",
            "showbackground": true,
            "ticks": "",
            "zerolinecolor": "#EBF0F8"
           },
           "zaxis": {
            "backgroundcolor": "white",
            "gridcolor": "#DFE8F3",
            "gridwidth": 2,
            "linecolor": "#EBF0F8",
            "showbackground": true,
            "ticks": "",
            "zerolinecolor": "#EBF0F8"
           }
          },
          "shapedefaults": {
           "line": {
            "color": "#2a3f5f"
           }
          },
          "ternary": {
           "aaxis": {
            "gridcolor": "#DFE8F3",
            "linecolor": "#A2B1C6",
            "ticks": ""
           },
           "baxis": {
            "gridcolor": "#DFE8F3",
            "linecolor": "#A2B1C6",
            "ticks": ""
           },
           "bgcolor": "white",
           "caxis": {
            "gridcolor": "#DFE8F3",
            "linecolor": "#A2B1C6",
            "ticks": ""
           }
          },
          "title": {
           "x": 0.05
          },
          "xaxis": {
           "automargin": true,
           "gridcolor": "#EBF0F8",
           "linecolor": "#EBF0F8",
           "ticks": "",
           "title": {
            "standoff": 15
           },
           "zerolinecolor": "#EBF0F8",
           "zerolinewidth": 2
          },
          "yaxis": {
           "automargin": true,
           "gridcolor": "#EBF0F8",
           "linecolor": "#EBF0F8",
           "ticks": "",
           "title": {
            "standoff": 15
           },
           "zerolinecolor": "#EBF0F8",
           "zerolinewidth": 2
          }
         }
        },
        "title": {
         "text": "Yearly Fare Trends - All Vehicles (Line)"
        },
        "xaxis": {
         "tickangle": -45,
         "title": {
          "text": "Year"
         }
        },
        "yaxis": {
         "title": {
          "text": "Total Fare Amount (KSH)"
         }
        }
       }
      }
     },
     "metadata": {},
     "output_type": "display_data"
    }
   ],
   "source": [
    "# Plot yearly fares (line chart)\n",
    "def plot_yearly_fares_line(output_file):\n",
    "    # Aggregate total fare for each vehicle by year\n",
    "    yearly_fares = data.groupby('year')['amount'].sum().reset_index()\n",
    "\n",
    "    # Plotting\n",
    "    fig = go.Figure()\n",
    "\n",
    "    fig.add_trace(go.Scatter(\n",
    "        x=yearly_fares['year'],\n",
    "        y=yearly_fares['amount'],\n",
    "        mode='lines+markers',\n",
    "        line=dict(color='blue', width=2),\n",
    "        marker=dict(symbol='circle', size=6),\n",
    "        text=yearly_fares['amount'].apply(lambda x: f\"{int(x):,}\"),\n",
    "        textposition='top center',\n",
    "        name=\"Total Earnings\"\n",
    "    ))\n",
    "\n",
    "    fig.update_layout(\n",
    "        title=\"Yearly Fare Trends - All Vehicles (Line)\",\n",
    "        xaxis_title=\"Year\",\n",
    "        yaxis_title=\"Total Fare Amount (KSH)\",\n",
    "        xaxis_tickangle=-45,\n",
    "        template='plotly_white'\n",
    "    )\n",
    "\n",
    "    # Save Plotly JSON\n",
    "    plot_data_json = fig.to_json()\n",
    "\n",
    "    # Create output directories\n",
    "    json_dir = f\"../json/all/year\"\n",
    "    os.makedirs(json_dir, exist_ok=True)\n",
    "\n",
    "    json_path = f\"{json_dir}/{output_file}.json\"\n",
    "    with open(json_path, 'w') as json_file:\n",
    "        json_file.write(plot_data_json)\n",
    "\n",
    "    print(f\"Saved JSON Plotly data: {json_path}\")\n",
    "    # fig.show()\n",
    "plot_yearly_fares_line(\"yearly_fares_line\")"
   ]
  },
  {
   "cell_type": "code",
   "execution_count": null,
   "metadata": {},
   "outputs": [],
   "source": [
    "# Plot yearly fares for a specific vehicle (line chart)\n",
    "def plot_yearly_fares_line_x1(vehicle_id, output_file):\n",
    "    # Filter data for the specific vehicle\n",
    "    vehicle_data = data[data['vehicle_booked'] == vehicle_id]\n",
    "\n",
    "    if vehicle_data.empty:\n",
    "        print(f\"No data found for vehicle: {vehicle_id}\")\n",
    "        return\n",
    "\n",
    "    # Aggregate total fare for the vehicle by year\n",
    "    yearly_fares = vehicle_data.groupby('year')['amount'].sum().reset_index()\n",
    "\n",
    "    # Plotting\n",
    "    fig = go.Figure()\n",
    "\n",
    "    fig.add_trace(go.Scatter(\n",
    "        x=yearly_fares['year'],\n",
    "        y=yearly_fares['amount'],\n",
    "        mode='lines+markers',\n",
    "        line=dict(width=2),\n",
    "        marker=dict(symbol='circle', size=6),\n",
    "        text=yearly_fares['amount'].apply(lambda x: f\"{int(x):,}\"),\n",
    "        textposition='top center',\n",
    "        name=vehicle_id\n",
    "    ))\n",
    "\n",
    "    fig.update_layout(\n",
    "        title=f\"Yearly Fare Trends for Vehicle {vehicle_id} (Line)\",\n",
    "        xaxis_title=\"Year\",\n",
    "        yaxis_title=\"Total Fare Amount (KSH)\",\n",
    "        xaxis_tickangle=-45,\n",
    "        template='plotly_white'\n",
    "    )\n",
    "\n",
    "    # Save Plotly JSON\n",
    "    plot_data_json = fig.to_json()\n",
    "\n",
    "    # Create output directories\n",
    "    json_dir = f\"../json/{vehicle_id}/eda/year\"\n",
    "    os.makedirs(json_dir, exist_ok=True)\n",
    "\n",
    "    json_path = f\"{json_dir}/{output_file}_{vehicle_id}.json\"\n",
    "    with open(json_path, 'w') as json_file:\n",
    "        json_file.write(plot_data_json)\n",
    "\n",
    "    print(f\"Saved JSON Plotly data: {json_path}\")\n",
    "    fig.show()\n",
    "plot_yearly_fares_line_x1(\"SM191\", \"yearly_fares_line\")"
   ]
  },
  {
   "cell_type": "code",
   "execution_count": null,
   "metadata": {},
   "outputs": [],
   "source": [
    "# Plot yearly fares (bar chart)\n",
    "def plot_yearly_fares_bar(output_file):\n",
    "    # Aggregate total fare for each vehicle by year\n",
    "    yearly_fares = data.groupby('year')['amount'].sum().reset_index()\n",
    "\n",
    "    # Plotting\n",
    "    fig = go.Figure()\n",
    "\n",
    "    fig.add_trace(go.Bar(\n",
    "        x=yearly_fares['year'],\n",
    "        y=yearly_fares['amount'],\n",
    "        marker=dict(color='skyblue'),\n",
    "        text=yearly_fares['amount'].apply(lambda x: f\"{int(x):,}\"),\n",
    "        textposition='auto',\n",
    "        name=\"Total Earnings\"\n",
    "    ))\n",
    "\n",
    "    fig.update_layout(\n",
    "        title=\"Yearly Fare Breakdown - All Vehicles (Bar)\",\n",
    "        xaxis_title=\"Year\",\n",
    "        yaxis_title=\"Total Fare Amount (KSH)\",\n",
    "        xaxis_tickangle=-45,\n",
    "        template='plotly_white'\n",
    "    )\n",
    "\n",
    "    # Save Plotly JSON\n",
    "    plot_data_json = fig.to_json()\n",
    "\n",
    "    # Create output directories\n",
    "    json_dir = f\"../json/all/year\"\n",
    "    os.makedirs(json_dir, exist_ok=True)\n",
    "\n",
    "    json_path = f\"{json_dir}/{output_file}.json\"\n",
    "    with open(json_path, 'w') as json_file:\n",
    "        json_file.write(plot_data_json)\n",
    "\n",
    "    print(f\"Saved JSON Plotly data: {json_path}\")\n",
    "    fig.show()"
   ]
  },
  {
   "cell_type": "code",
   "execution_count": null,
   "metadata": {},
   "outputs": [],
   "source": [
    "# Plot yearly fares for a specific vehicle (bar chart)\n",
    "def plot_yearly_fares_bar_x1(vehicle_id, output_file):\n",
    "    # Filter data for the specific vehicle\n",
    "    vehicle_data = data[data['vehicle_booked'] == vehicle_id]\n",
    "\n",
    "    if vehicle_data.empty:\n",
    "        print(f\"No data found for vehicle: {vehicle_id}\")\n",
    "        return\n",
    "\n",
    "    # Aggregate total fare for the vehicle by year\n",
    "    yearly_fares = vehicle_data.groupby('year')['amount'].sum().reset_index()\n",
    "\n",
    "    # Plotting\n",
    "    fig = go.Figure()\n",
    "\n",
    "    fig.add_trace(go.Bar(\n",
    "        x=yearly_fares['year'],\n",
    "        y=yearly_fares['amount'],\n",
    "        name=vehicle_id,\n",
    "        text=yearly_fares['amount'].apply(lambda x: f\"{int(x):,}\"),\n",
    "        textposition='auto',\n",
    "        marker_color='indianred'\n",
    "    ))\n",
    "\n",
    "    fig.update_layout(\n",
    "        title=f\"Yearly Fare Totals for Vehicle {vehicle_id} (Bar)\",\n",
    "        xaxis_title=\"Year\",\n",
    "        yaxis_title=\"Total Fare Amount (KSH)\",\n",
    "        xaxis_tickangle=-45,\n",
    "        template='plotly_white'\n",
    "    )\n",
    "\n",
    "    # Save Plotly JSON\n",
    "    plot_data_json = fig.to_json()\n",
    "\n",
    "    # Create output directories\n",
    "    json_dir = f\"../json/{vehicle_id}/eda/year\"\n",
    "    os.makedirs(json_dir, exist_ok=True)\n",
    "\n",
    "    json_path = f\"{json_dir}/{output_file}.json\"\n",
    "    with open(json_path, 'w') as json_file:\n",
    "        json_file.write(plot_data_json)\n",
    "\n",
    "    print(f\"Saved JSON Plotly data: {json_path}\")\n",
    "    fig.show()"
   ]
  },
  {
   "cell_type": "code",
   "execution_count": null,
   "metadata": {},
   "outputs": [],
   "source": [
    "# Plot yearly total revenue (bar chart)\n",
    "def plot_yearly_total_revenue_bar(output_file):\n",
    "    # Calculate total revenue per year\n",
    "    yearly_total = data.groupby('year')['amount'].sum().reset_index()\n",
    "\n",
    "    # Plot using Plotly for JSON output\n",
    "    fig = go.Figure()\n",
    "\n",
    "    fig.add_trace(go.Bar(\n",
    "        x=yearly_total['year'],\n",
    "        y=yearly_total['amount'],\n",
    "        marker=dict(color='skyblue'),\n",
    "        text=yearly_total['amount'].apply(lambda x: f\"{int(x):,}\"),\n",
    "        textposition='auto',\n",
    "        name=\"Total Earnings\"\n",
    "    ))\n",
    "\n",
    "    # Update layout\n",
    "    fig.update_layout(\n",
    "        title=\"Yearly Total Earnings - All Vehicles\",\n",
    "        xaxis_title=\"Year\",\n",
    "        yaxis_title=\"Total Earnings (KSH)\",\n",
    "        xaxis_tickangle=-45,\n",
    "        template='plotly_white'\n",
    "    )\n",
    "\n",
    "    # Save the Plotly JSON\n",
    "    fig_json = fig.to_json()\n",
    "\n",
    "    # Create output directories\n",
    "    json_dir = f\"../json/all/year\"\n",
    "    os.makedirs(json_dir, exist_ok=True)\n",
    "\n",
    "    json_path = f\"{json_dir}/{output_file}.json\"\n",
    "    with open(json_path, 'w') as json_file:\n",
    "        json_file.write(fig_json)\n",
    "\n",
    "    print(f\"Saved JSON Plotly data: {json_path}\")\n",
    "    fig.show()"
   ]
  },
  {
   "cell_type": "code",
   "execution_count": null,
   "metadata": {},
   "outputs": [],
   "source": [
    "# Plot yearly total revenue (line chart)\n",
    "def plot_yearly_total_revenue_line(output_file):\n",
    "    # Calculate total revenue per year\n",
    "    yearly_total = data.groupby('year')['amount'].sum().reset_index()\n",
    "\n",
    "    # Plot using Plotly for JSON output\n",
    "    fig = go.Figure()\n",
    "\n",
    "    fig.add_trace(go.Scatter(\n",
    "        x=yearly_total['year'],\n",
    "        y=yearly_total['amount'],\n",
    "        mode='lines+markers',\n",
    "        line=dict(color='green', width=2),\n",
    "        marker=dict(symbol='circle', size=6),\n",
    "        text=yearly_total['amount'].apply(lambda x: f\"{int(x):,}\"),\n",
    "        textposition='top center',\n",
    "        name=\"Total Earnings\"\n",
    "    ))\n",
    "\n",
    "    # Update layout\n",
    "    fig.update_layout(\n",
    "        title=\"Yearly Total Earnings - All Vehicles (Line)\",\n",
    "        xaxis_title=\"Year\",\n",
    "        yaxis_title=\"Total Earnings (KSH)\",\n",
    "        xaxis_tickangle=-45,\n",
    "        template='plotly_white'\n",
    "    )\n",
    "\n",
    "    # Save the Plotly JSON\n",
    "    fig_json = fig.to_json()\n",
    "\n",
    "    # Create output directories\n",
    "    json_dir = f\"../json/all/year\"\n",
    "    os.makedirs(json_dir, exist_ok=True)\n",
    "\n",
    "    json_path = f\"{json_dir}/{output_file}.json\"\n",
    "    with open(json_path, 'w') as json_file:\n",
    "        json_file.write(fig_json)\n",
    "\n",
    "    print(f\"Saved JSON Plotly data: {json_path}\")\n",
    "    fig.show()"
   ]
  },
  {
   "cell_type": "code",
   "execution_count": null,
   "metadata": {},
   "outputs": [],
   "source": [
    "# Plot yearly breakdown by vehicle (bar chart)\n",
    "def plot_yearly_breakdown_by_vehicle(output_file):\n",
    "    # Aggregate total earnings by year and vehicle\n",
    "    yearly_by_vehicle = data.groupby(['year', 'vehicle_booked'])['amount'].sum().reset_index()\n",
    "\n",
    "    # Pivot table for vehicle columns\n",
    "    yearly_by_vehicle_pivot = yearly_by_vehicle.pivot(index='year', columns='vehicle_booked', values='amount')\n",
    "    yearly_by_vehicle_pivot = yearly_by_vehicle_pivot.fillna(0).sort_index()\n",
    "\n",
    "    # Create a Plotly figure\n",
    "    fig = go.Figure()\n",
    "\n",
    "    for vehicle in yearly_by_vehicle_pivot.columns:\n",
    "        fig.add_trace(go.Bar(\n",
    "            x=yearly_by_vehicle_pivot.index,\n",
    "            y=yearly_by_vehicle_pivot[vehicle],\n",
    "            name=vehicle,\n",
    "            text=yearly_by_vehicle_pivot[vehicle].apply(lambda x: f\"{int(x):,}\"),\n",
    "            textposition='auto'\n",
    "        ))\n",
    "\n",
    "    # Update layout for grouped bars\n",
    "    fig.update_layout(\n",
    "        title=\"Yearly Earnings Breakdown by Vehicle\",\n",
    "        xaxis_title=\"Year\",\n",
    "        yaxis_title=\"Total Earnings (KSH)\",\n",
    "        barmode='group',  # side-by-side bars (group / stack)\n",
    "        template='plotly_white',\n",
    "        xaxis_tickangle=-45,\n",
    "        legend_title=\"Vehicles\"\n",
    "    )\n",
    "\n",
    "    # Save the Plotly figure as JSON\n",
    "    plot_json = fig.to_json()\n",
    "\n",
    "    # Create output directory\n",
    "    json_dir = f\"../json/all/year\"\n",
    "    os.makedirs(json_dir, exist_ok=True)\n",
    "\n",
    "    json_path = f\"{json_dir}/{output_file}.json\"\n",
    "    with open(json_path, 'w') as json_file:\n",
    "        json_file.write(plot_json)\n",
    "\n",
    "    print(f\"Saved JSON Plotly data: {json_path}\")\n",
    "    fig.show()"
   ]
  }
 ],
 "metadata": {
  "kernelspec": {
   "display_name": "venv",
   "language": "python",
   "name": "python3"
  },
  "language_info": {
   "codemirror_mode": {
    "name": "ipython",
    "version": 3
   },
   "file_extension": ".py",
   "mimetype": "text/x-python",
   "name": "python",
   "nbconvert_exporter": "python",
   "pygments_lexer": "ipython3",
   "version": "3.13.0"
  }
 },
 "nbformat": 4,
 "nbformat_minor": 2
}
